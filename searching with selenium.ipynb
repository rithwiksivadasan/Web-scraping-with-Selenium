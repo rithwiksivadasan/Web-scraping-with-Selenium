{
 "cells": [
  {
   "cell_type": "code",
   "execution_count": 1,
   "id": "2e036d57",
   "metadata": {},
   "outputs": [],
   "source": [
    "import pandas as pd\n",
    "import requests\n",
    "from bs4 import BeautifulSoup\n",
    "import re\n",
    "import difflib \n",
    "from selenium import webdriver\n",
    "import time\n",
    "from selenium.webdriver.common.by import By\n",
    "from selenium.webdriver.support.select import Select\n",
    "import instaloader\n",
    "from selenium.webdriver.common.keys import Keys\n",
    "from difflib import SequenceMatcher\n",
    "\n",
    "from selenium import webdriver\n",
    "from selenium.common.exceptions import TimeoutException\n",
    "from selenium.webdriver.support.ui import WebDriverWait\n",
    "from selenium.webdriver.support import expected_conditions as EC\n",
    "from selenium.webdriver.common.by import By\n"
   ]
  },
  {
   "cell_type": "code",
   "execution_count": 2,
   "id": "bf0e9366",
   "metadata": {},
   "outputs": [
    {
     "name": "stderr",
     "output_type": "stream",
     "text": [
      "/var/folders/sf/72qw163j6sv68zg_2cx67t_h0000gn/T/ipykernel_4385/4290797391.py:1: DtypeWarning: Columns (1,6) have mixed types. Specify dtype option on import or set low_memory=False.\n",
      "  men=pd.read_csv('menWithRace.csv')\n",
      "/var/folders/sf/72qw163j6sv68zg_2cx67t_h0000gn/T/ipykernel_4385/4290797391.py:2: DtypeWarning: Columns (1,6) have mixed types. Specify dtype option on import or set low_memory=False.\n",
      "  women=pd.read_csv('womenWithRace.csv')\n"
     ]
    }
   ],
   "source": [
    "men=pd.read_csv('menWithRace.csv')\n",
    "women=pd.read_csv('womenWithRace.csv')\n"
   ]
  },
  {
   "cell_type": "code",
   "execution_count": 3,
   "id": "219ba30d",
   "metadata": {},
   "outputs": [],
   "source": [
    "men_300=men['athlete_display_name'].unique()[0:300]\n",
    "women_300=women['athlete_display_name'].unique()[0:300]"
   ]
  },
  {
   "cell_type": "code",
   "execution_count": 4,
   "id": "c1453ac7",
   "metadata": {},
   "outputs": [],
   "source": [
    "def similar(a, b):\n",
    "    return SequenceMatcher(None, a, b).ratio()\n"
   ]
  },
  {
   "cell_type": "code",
   "execution_count": 45,
   "id": "dc461d82",
   "metadata": {},
   "outputs": [
    {
     "name": "stderr",
     "output_type": "stream",
     "text": [
      "/var/folders/sf/72qw163j6sv68zg_2cx67t_h0000gn/T/ipykernel_4385/13663736.py:8: DeprecationWarning: executable_path has been deprecated, please pass in a Service object\n",
      "  driver = webdriver.Chrome(\"chromedriver.exe\", options=options)\n",
      "/var/folders/sf/72qw163j6sv68zg_2cx67t_h0000gn/T/ipykernel_4385/13663736.py:16: DeprecationWarning: executable_path has been deprecated, please pass in a Service object\n",
      "  driver = webdriver.Chrome(\"chromedriver.exe\", options=options)\n"
     ]
    },
    {
     "name": "stdout",
     "output_type": "stream",
     "text": [
      "Haha\n",
      "Haha1\n",
      "haha6\n"
     ]
    },
    {
     "name": "stderr",
     "output_type": "stream",
     "text": [
      "/var/folders/sf/72qw163j6sv68zg_2cx67t_h0000gn/T/ipykernel_4385/13663736.py:16: DeprecationWarning: executable_path has been deprecated, please pass in a Service object\n",
      "  driver = webdriver.Chrome(\"chromedriver.exe\", options=options)\n"
     ]
    },
    {
     "name": "stdout",
     "output_type": "stream",
     "text": [
      "Haha\n",
      "Haha1\n",
      "haha6\n"
     ]
    },
    {
     "name": "stderr",
     "output_type": "stream",
     "text": [
      "/var/folders/sf/72qw163j6sv68zg_2cx67t_h0000gn/T/ipykernel_4385/13663736.py:16: DeprecationWarning: executable_path has been deprecated, please pass in a Service object\n",
      "  driver = webdriver.Chrome(\"chromedriver.exe\", options=options)\n"
     ]
    },
    {
     "name": "stdout",
     "output_type": "stream",
     "text": [
      "Haha\n",
      "Haha1\n",
      "haha6\n"
     ]
    },
    {
     "name": "stderr",
     "output_type": "stream",
     "text": [
      "/var/folders/sf/72qw163j6sv68zg_2cx67t_h0000gn/T/ipykernel_4385/13663736.py:16: DeprecationWarning: executable_path has been deprecated, please pass in a Service object\n",
      "  driver = webdriver.Chrome(\"chromedriver.exe\", options=options)\n"
     ]
    },
    {
     "name": "stdout",
     "output_type": "stream",
     "text": [
      "Haha\n",
      "Haha1\n",
      "haha6\n"
     ]
    },
    {
     "name": "stderr",
     "output_type": "stream",
     "text": [
      "/var/folders/sf/72qw163j6sv68zg_2cx67t_h0000gn/T/ipykernel_4385/13663736.py:16: DeprecationWarning: executable_path has been deprecated, please pass in a Service object\n",
      "  driver = webdriver.Chrome(\"chromedriver.exe\", options=options)\n"
     ]
    },
    {
     "name": "stdout",
     "output_type": "stream",
     "text": [
      "Haha\n",
      "Haha1\n",
      "haha6\n"
     ]
    },
    {
     "name": "stderr",
     "output_type": "stream",
     "text": [
      "/var/folders/sf/72qw163j6sv68zg_2cx67t_h0000gn/T/ipykernel_4385/13663736.py:16: DeprecationWarning: executable_path has been deprecated, please pass in a Service object\n",
      "  driver = webdriver.Chrome(\"chromedriver.exe\", options=options)\n"
     ]
    },
    {
     "name": "stdout",
     "output_type": "stream",
     "text": [
      "Haha\n",
      "Haha1\n",
      "haha6\n"
     ]
    },
    {
     "name": "stderr",
     "output_type": "stream",
     "text": [
      "/var/folders/sf/72qw163j6sv68zg_2cx67t_h0000gn/T/ipykernel_4385/13663736.py:16: DeprecationWarning: executable_path has been deprecated, please pass in a Service object\n",
      "  driver = webdriver.Chrome(\"chromedriver.exe\", options=options)\n"
     ]
    },
    {
     "name": "stdout",
     "output_type": "stream",
     "text": [
      "Haha\n",
      "Haha1\n",
      "haha6\n"
     ]
    },
    {
     "name": "stderr",
     "output_type": "stream",
     "text": [
      "/var/folders/sf/72qw163j6sv68zg_2cx67t_h0000gn/T/ipykernel_4385/13663736.py:16: DeprecationWarning: executable_path has been deprecated, please pass in a Service object\n",
      "  driver = webdriver.Chrome(\"chromedriver.exe\", options=options)\n"
     ]
    },
    {
     "name": "stdout",
     "output_type": "stream",
     "text": [
      "Haha\n",
      "Haha1\n",
      "haha6\n"
     ]
    },
    {
     "name": "stderr",
     "output_type": "stream",
     "text": [
      "/var/folders/sf/72qw163j6sv68zg_2cx67t_h0000gn/T/ipykernel_4385/13663736.py:16: DeprecationWarning: executable_path has been deprecated, please pass in a Service object\n",
      "  driver = webdriver.Chrome(\"chromedriver.exe\", options=options)\n"
     ]
    },
    {
     "name": "stdout",
     "output_type": "stream",
     "text": [
      "Haha\n",
      "Haha1\n",
      "haha6\n"
     ]
    },
    {
     "name": "stderr",
     "output_type": "stream",
     "text": [
      "/var/folders/sf/72qw163j6sv68zg_2cx67t_h0000gn/T/ipykernel_4385/13663736.py:16: DeprecationWarning: executable_path has been deprecated, please pass in a Service object\n",
      "  driver = webdriver.Chrome(\"chromedriver.exe\", options=options)\n"
     ]
    },
    {
     "name": "stdout",
     "output_type": "stream",
     "text": [
      "Haha\n",
      "Haha1\n",
      "haha6\n"
     ]
    },
    {
     "name": "stderr",
     "output_type": "stream",
     "text": [
      "/var/folders/sf/72qw163j6sv68zg_2cx67t_h0000gn/T/ipykernel_4385/13663736.py:16: DeprecationWarning: executable_path has been deprecated, please pass in a Service object\n",
      "  driver = webdriver.Chrome(\"chromedriver.exe\", options=options)\n"
     ]
    },
    {
     "name": "stdout",
     "output_type": "stream",
     "text": [
      "Haha\n",
      "entereced in except1\n",
      "entered in except2\n",
      "haha6\n"
     ]
    },
    {
     "name": "stderr",
     "output_type": "stream",
     "text": [
      "/var/folders/sf/72qw163j6sv68zg_2cx67t_h0000gn/T/ipykernel_4385/13663736.py:16: DeprecationWarning: executable_path has been deprecated, please pass in a Service object\n",
      "  driver = webdriver.Chrome(\"chromedriver.exe\", options=options)\n"
     ]
    },
    {
     "name": "stdout",
     "output_type": "stream",
     "text": [
      "Haha\n",
      "Haha1\n",
      "haha6\n"
     ]
    },
    {
     "name": "stderr",
     "output_type": "stream",
     "text": [
      "/var/folders/sf/72qw163j6sv68zg_2cx67t_h0000gn/T/ipykernel_4385/13663736.py:16: DeprecationWarning: executable_path has been deprecated, please pass in a Service object\n",
      "  driver = webdriver.Chrome(\"chromedriver.exe\", options=options)\n"
     ]
    },
    {
     "name": "stdout",
     "output_type": "stream",
     "text": [
      "Haha\n",
      "Haha1\n",
      "haha6\n"
     ]
    },
    {
     "name": "stderr",
     "output_type": "stream",
     "text": [
      "/var/folders/sf/72qw163j6sv68zg_2cx67t_h0000gn/T/ipykernel_4385/13663736.py:16: DeprecationWarning: executable_path has been deprecated, please pass in a Service object\n",
      "  driver = webdriver.Chrome(\"chromedriver.exe\", options=options)\n"
     ]
    },
    {
     "name": "stdout",
     "output_type": "stream",
     "text": [
      "Haha\n",
      "entereced in except1\n",
      "entered in except2\n",
      "haha6\n"
     ]
    },
    {
     "name": "stderr",
     "output_type": "stream",
     "text": [
      "/var/folders/sf/72qw163j6sv68zg_2cx67t_h0000gn/T/ipykernel_4385/13663736.py:16: DeprecationWarning: executable_path has been deprecated, please pass in a Service object\n",
      "  driver = webdriver.Chrome(\"chromedriver.exe\", options=options)\n"
     ]
    },
    {
     "name": "stdout",
     "output_type": "stream",
     "text": [
      "Haha\n",
      "Haha1\n",
      "haha6\n"
     ]
    },
    {
     "name": "stderr",
     "output_type": "stream",
     "text": [
      "/var/folders/sf/72qw163j6sv68zg_2cx67t_h0000gn/T/ipykernel_4385/13663736.py:16: DeprecationWarning: executable_path has been deprecated, please pass in a Service object\n",
      "  driver = webdriver.Chrome(\"chromedriver.exe\", options=options)\n"
     ]
    },
    {
     "name": "stdout",
     "output_type": "stream",
     "text": [
      "Haha\n",
      "Haha1\n",
      "haha6\n"
     ]
    },
    {
     "name": "stderr",
     "output_type": "stream",
     "text": [
      "/var/folders/sf/72qw163j6sv68zg_2cx67t_h0000gn/T/ipykernel_4385/13663736.py:16: DeprecationWarning: executable_path has been deprecated, please pass in a Service object\n",
      "  driver = webdriver.Chrome(\"chromedriver.exe\", options=options)\n"
     ]
    },
    {
     "name": "stdout",
     "output_type": "stream",
     "text": [
      "Haha\n",
      "entereced in except1\n",
      "Haha3\n",
      "haha6\n"
     ]
    },
    {
     "name": "stderr",
     "output_type": "stream",
     "text": [
      "/var/folders/sf/72qw163j6sv68zg_2cx67t_h0000gn/T/ipykernel_4385/13663736.py:16: DeprecationWarning: executable_path has been deprecated, please pass in a Service object\n",
      "  driver = webdriver.Chrome(\"chromedriver.exe\", options=options)\n"
     ]
    },
    {
     "name": "stdout",
     "output_type": "stream",
     "text": [
      "Haha\n",
      "Haha1\n",
      "haha6\n"
     ]
    },
    {
     "name": "stderr",
     "output_type": "stream",
     "text": [
      "/var/folders/sf/72qw163j6sv68zg_2cx67t_h0000gn/T/ipykernel_4385/13663736.py:16: DeprecationWarning: executable_path has been deprecated, please pass in a Service object\n",
      "  driver = webdriver.Chrome(\"chromedriver.exe\", options=options)\n"
     ]
    },
    {
     "name": "stdout",
     "output_type": "stream",
     "text": [
      "Haha\n",
      "Haha1\n",
      "haha6\n"
     ]
    },
    {
     "name": "stderr",
     "output_type": "stream",
     "text": [
      "/var/folders/sf/72qw163j6sv68zg_2cx67t_h0000gn/T/ipykernel_4385/13663736.py:16: DeprecationWarning: executable_path has been deprecated, please pass in a Service object\n",
      "  driver = webdriver.Chrome(\"chromedriver.exe\", options=options)\n"
     ]
    },
    {
     "name": "stdout",
     "output_type": "stream",
     "text": [
      "Haha\n",
      "Haha1\n",
      "haha6\n"
     ]
    },
    {
     "name": "stderr",
     "output_type": "stream",
     "text": [
      "/var/folders/sf/72qw163j6sv68zg_2cx67t_h0000gn/T/ipykernel_4385/13663736.py:16: DeprecationWarning: executable_path has been deprecated, please pass in a Service object\n",
      "  driver = webdriver.Chrome(\"chromedriver.exe\", options=options)\n"
     ]
    },
    {
     "name": "stdout",
     "output_type": "stream",
     "text": [
      "Haha\n",
      "Haha1\n",
      "haha6\n"
     ]
    },
    {
     "name": "stderr",
     "output_type": "stream",
     "text": [
      "/var/folders/sf/72qw163j6sv68zg_2cx67t_h0000gn/T/ipykernel_4385/13663736.py:16: DeprecationWarning: executable_path has been deprecated, please pass in a Service object\n",
      "  driver = webdriver.Chrome(\"chromedriver.exe\", options=options)\n"
     ]
    },
    {
     "name": "stdout",
     "output_type": "stream",
     "text": [
      "Haha\n",
      "Haha1\n",
      "haha6\n"
     ]
    },
    {
     "name": "stderr",
     "output_type": "stream",
     "text": [
      "/var/folders/sf/72qw163j6sv68zg_2cx67t_h0000gn/T/ipykernel_4385/13663736.py:16: DeprecationWarning: executable_path has been deprecated, please pass in a Service object\n",
      "  driver = webdriver.Chrome(\"chromedriver.exe\", options=options)\n"
     ]
    },
    {
     "name": "stdout",
     "output_type": "stream",
     "text": [
      "Haha\n",
      "Haha1\n",
      "haha6\n"
     ]
    },
    {
     "name": "stderr",
     "output_type": "stream",
     "text": [
      "/var/folders/sf/72qw163j6sv68zg_2cx67t_h0000gn/T/ipykernel_4385/13663736.py:16: DeprecationWarning: executable_path has been deprecated, please pass in a Service object\n",
      "  driver = webdriver.Chrome(\"chromedriver.exe\", options=options)\n"
     ]
    },
    {
     "name": "stdout",
     "output_type": "stream",
     "text": [
      "Haha\n",
      "Haha1\n",
      "haha6\n"
     ]
    },
    {
     "name": "stderr",
     "output_type": "stream",
     "text": [
      "/var/folders/sf/72qw163j6sv68zg_2cx67t_h0000gn/T/ipykernel_4385/13663736.py:16: DeprecationWarning: executable_path has been deprecated, please pass in a Service object\n",
      "  driver = webdriver.Chrome(\"chromedriver.exe\", options=options)\n"
     ]
    },
    {
     "name": "stdout",
     "output_type": "stream",
     "text": [
      "Haha\n",
      "Haha1\n",
      "haha6\n"
     ]
    },
    {
     "name": "stderr",
     "output_type": "stream",
     "text": [
      "/var/folders/sf/72qw163j6sv68zg_2cx67t_h0000gn/T/ipykernel_4385/13663736.py:16: DeprecationWarning: executable_path has been deprecated, please pass in a Service object\n",
      "  driver = webdriver.Chrome(\"chromedriver.exe\", options=options)\n"
     ]
    },
    {
     "name": "stdout",
     "output_type": "stream",
     "text": [
      "Haha\n",
      "Haha1\n",
      "haha6\n"
     ]
    },
    {
     "name": "stderr",
     "output_type": "stream",
     "text": [
      "/var/folders/sf/72qw163j6sv68zg_2cx67t_h0000gn/T/ipykernel_4385/13663736.py:16: DeprecationWarning: executable_path has been deprecated, please pass in a Service object\n",
      "  driver = webdriver.Chrome(\"chromedriver.exe\", options=options)\n"
     ]
    },
    {
     "name": "stdout",
     "output_type": "stream",
     "text": [
      "Haha\n",
      "entereced in except1\n",
      "Haha3\n",
      "haha6\n"
     ]
    },
    {
     "name": "stderr",
     "output_type": "stream",
     "text": [
      "/var/folders/sf/72qw163j6sv68zg_2cx67t_h0000gn/T/ipykernel_4385/13663736.py:16: DeprecationWarning: executable_path has been deprecated, please pass in a Service object\n",
      "  driver = webdriver.Chrome(\"chromedriver.exe\", options=options)\n"
     ]
    },
    {
     "name": "stdout",
     "output_type": "stream",
     "text": [
      "Haha\n",
      "Haha1\n",
      "haha6\n"
     ]
    },
    {
     "name": "stderr",
     "output_type": "stream",
     "text": [
      "/var/folders/sf/72qw163j6sv68zg_2cx67t_h0000gn/T/ipykernel_4385/13663736.py:16: DeprecationWarning: executable_path has been deprecated, please pass in a Service object\n",
      "  driver = webdriver.Chrome(\"chromedriver.exe\", options=options)\n"
     ]
    },
    {
     "name": "stdout",
     "output_type": "stream",
     "text": [
      "Haha\n",
      "Haha1\n",
      "haha6\n"
     ]
    },
    {
     "name": "stderr",
     "output_type": "stream",
     "text": [
      "/var/folders/sf/72qw163j6sv68zg_2cx67t_h0000gn/T/ipykernel_4385/13663736.py:16: DeprecationWarning: executable_path has been deprecated, please pass in a Service object\n",
      "  driver = webdriver.Chrome(\"chromedriver.exe\", options=options)\n"
     ]
    },
    {
     "name": "stdout",
     "output_type": "stream",
     "text": [
      "Haha\n",
      "Haha1\n",
      "haha6\n"
     ]
    },
    {
     "name": "stderr",
     "output_type": "stream",
     "text": [
      "/var/folders/sf/72qw163j6sv68zg_2cx67t_h0000gn/T/ipykernel_4385/13663736.py:16: DeprecationWarning: executable_path has been deprecated, please pass in a Service object\n",
      "  driver = webdriver.Chrome(\"chromedriver.exe\", options=options)\n"
     ]
    },
    {
     "name": "stdout",
     "output_type": "stream",
     "text": [
      "Haha\n",
      "Haha1\n",
      "haha6\n"
     ]
    },
    {
     "name": "stderr",
     "output_type": "stream",
     "text": [
      "/var/folders/sf/72qw163j6sv68zg_2cx67t_h0000gn/T/ipykernel_4385/13663736.py:16: DeprecationWarning: executable_path has been deprecated, please pass in a Service object\n",
      "  driver = webdriver.Chrome(\"chromedriver.exe\", options=options)\n"
     ]
    },
    {
     "name": "stdout",
     "output_type": "stream",
     "text": [
      "Haha\n",
      "Haha1\n",
      "haha6\n"
     ]
    },
    {
     "name": "stderr",
     "output_type": "stream",
     "text": [
      "/var/folders/sf/72qw163j6sv68zg_2cx67t_h0000gn/T/ipykernel_4385/13663736.py:16: DeprecationWarning: executable_path has been deprecated, please pass in a Service object\n",
      "  driver = webdriver.Chrome(\"chromedriver.exe\", options=options)\n"
     ]
    },
    {
     "name": "stdout",
     "output_type": "stream",
     "text": [
      "Haha\n",
      "Haha1\n",
      "haha6\n"
     ]
    },
    {
     "name": "stderr",
     "output_type": "stream",
     "text": [
      "/var/folders/sf/72qw163j6sv68zg_2cx67t_h0000gn/T/ipykernel_4385/13663736.py:16: DeprecationWarning: executable_path has been deprecated, please pass in a Service object\n",
      "  driver = webdriver.Chrome(\"chromedriver.exe\", options=options)\n"
     ]
    },
    {
     "name": "stdout",
     "output_type": "stream",
     "text": [
      "Haha\n",
      "Haha1\n",
      "haha6\n"
     ]
    },
    {
     "name": "stderr",
     "output_type": "stream",
     "text": [
      "/var/folders/sf/72qw163j6sv68zg_2cx67t_h0000gn/T/ipykernel_4385/13663736.py:16: DeprecationWarning: executable_path has been deprecated, please pass in a Service object\n",
      "  driver = webdriver.Chrome(\"chromedriver.exe\", options=options)\n"
     ]
    },
    {
     "name": "stdout",
     "output_type": "stream",
     "text": [
      "Haha\n",
      "Haha1\n",
      "haha6\n"
     ]
    },
    {
     "name": "stderr",
     "output_type": "stream",
     "text": [
      "/var/folders/sf/72qw163j6sv68zg_2cx67t_h0000gn/T/ipykernel_4385/13663736.py:16: DeprecationWarning: executable_path has been deprecated, please pass in a Service object\n",
      "  driver = webdriver.Chrome(\"chromedriver.exe\", options=options)\n"
     ]
    },
    {
     "name": "stdout",
     "output_type": "stream",
     "text": [
      "Haha\n",
      "Haha1\n",
      "haha6\n"
     ]
    },
    {
     "name": "stderr",
     "output_type": "stream",
     "text": [
      "/var/folders/sf/72qw163j6sv68zg_2cx67t_h0000gn/T/ipykernel_4385/13663736.py:16: DeprecationWarning: executable_path has been deprecated, please pass in a Service object\n",
      "  driver = webdriver.Chrome(\"chromedriver.exe\", options=options)\n"
     ]
    },
    {
     "name": "stdout",
     "output_type": "stream",
     "text": [
      "Haha\n",
      "Haha1\n",
      "haha6\n"
     ]
    },
    {
     "name": "stderr",
     "output_type": "stream",
     "text": [
      "/var/folders/sf/72qw163j6sv68zg_2cx67t_h0000gn/T/ipykernel_4385/13663736.py:16: DeprecationWarning: executable_path has been deprecated, please pass in a Service object\n",
      "  driver = webdriver.Chrome(\"chromedriver.exe\", options=options)\n"
     ]
    },
    {
     "name": "stdout",
     "output_type": "stream",
     "text": [
      "Haha\n",
      "Haha1\n",
      "haha6\n"
     ]
    },
    {
     "name": "stderr",
     "output_type": "stream",
     "text": [
      "/var/folders/sf/72qw163j6sv68zg_2cx67t_h0000gn/T/ipykernel_4385/13663736.py:16: DeprecationWarning: executable_path has been deprecated, please pass in a Service object\n",
      "  driver = webdriver.Chrome(\"chromedriver.exe\", options=options)\n"
     ]
    },
    {
     "name": "stdout",
     "output_type": "stream",
     "text": [
      "Haha\n",
      "Haha1\n",
      "haha6\n"
     ]
    },
    {
     "name": "stderr",
     "output_type": "stream",
     "text": [
      "/var/folders/sf/72qw163j6sv68zg_2cx67t_h0000gn/T/ipykernel_4385/13663736.py:16: DeprecationWarning: executable_path has been deprecated, please pass in a Service object\n",
      "  driver = webdriver.Chrome(\"chromedriver.exe\", options=options)\n"
     ]
    },
    {
     "name": "stdout",
     "output_type": "stream",
     "text": [
      "Haha\n",
      "Haha1\n",
      "haha6\n"
     ]
    },
    {
     "name": "stderr",
     "output_type": "stream",
     "text": [
      "/var/folders/sf/72qw163j6sv68zg_2cx67t_h0000gn/T/ipykernel_4385/13663736.py:16: DeprecationWarning: executable_path has been deprecated, please pass in a Service object\n",
      "  driver = webdriver.Chrome(\"chromedriver.exe\", options=options)\n"
     ]
    },
    {
     "name": "stdout",
     "output_type": "stream",
     "text": [
      "Haha\n",
      "Haha1\n",
      "haha6\n"
     ]
    },
    {
     "name": "stderr",
     "output_type": "stream",
     "text": [
      "/var/folders/sf/72qw163j6sv68zg_2cx67t_h0000gn/T/ipykernel_4385/13663736.py:16: DeprecationWarning: executable_path has been deprecated, please pass in a Service object\n",
      "  driver = webdriver.Chrome(\"chromedriver.exe\", options=options)\n"
     ]
    },
    {
     "name": "stdout",
     "output_type": "stream",
     "text": [
      "Haha\n",
      "Haha1\n",
      "haha6\n"
     ]
    },
    {
     "name": "stderr",
     "output_type": "stream",
     "text": [
      "/var/folders/sf/72qw163j6sv68zg_2cx67t_h0000gn/T/ipykernel_4385/13663736.py:16: DeprecationWarning: executable_path has been deprecated, please pass in a Service object\n",
      "  driver = webdriver.Chrome(\"chromedriver.exe\", options=options)\n"
     ]
    },
    {
     "name": "stdout",
     "output_type": "stream",
     "text": [
      "Haha\n",
      "Haha1\n",
      "haha6\n"
     ]
    },
    {
     "name": "stderr",
     "output_type": "stream",
     "text": [
      "/var/folders/sf/72qw163j6sv68zg_2cx67t_h0000gn/T/ipykernel_4385/13663736.py:16: DeprecationWarning: executable_path has been deprecated, please pass in a Service object\n",
      "  driver = webdriver.Chrome(\"chromedriver.exe\", options=options)\n"
     ]
    },
    {
     "name": "stdout",
     "output_type": "stream",
     "text": [
      "Haha\n",
      "entereced in except1\n",
      "entered in except2\n",
      "haha6\n"
     ]
    },
    {
     "name": "stderr",
     "output_type": "stream",
     "text": [
      "/var/folders/sf/72qw163j6sv68zg_2cx67t_h0000gn/T/ipykernel_4385/13663736.py:16: DeprecationWarning: executable_path has been deprecated, please pass in a Service object\n",
      "  driver = webdriver.Chrome(\"chromedriver.exe\", options=options)\n"
     ]
    },
    {
     "name": "stdout",
     "output_type": "stream",
     "text": [
      "Haha\n",
      "entereced in except1\n",
      "entered in except2\n",
      "haha6\n"
     ]
    },
    {
     "name": "stderr",
     "output_type": "stream",
     "text": [
      "/var/folders/sf/72qw163j6sv68zg_2cx67t_h0000gn/T/ipykernel_4385/13663736.py:16: DeprecationWarning: executable_path has been deprecated, please pass in a Service object\n",
      "  driver = webdriver.Chrome(\"chromedriver.exe\", options=options)\n"
     ]
    },
    {
     "name": "stdout",
     "output_type": "stream",
     "text": [
      "Haha\n",
      "Haha1\n",
      "haha6\n"
     ]
    },
    {
     "name": "stderr",
     "output_type": "stream",
     "text": [
      "/var/folders/sf/72qw163j6sv68zg_2cx67t_h0000gn/T/ipykernel_4385/13663736.py:16: DeprecationWarning: executable_path has been deprecated, please pass in a Service object\n",
      "  driver = webdriver.Chrome(\"chromedriver.exe\", options=options)\n"
     ]
    },
    {
     "name": "stdout",
     "output_type": "stream",
     "text": [
      "Haha\n",
      "entereced in except1\n",
      "entered in except2\n",
      "haha6\n"
     ]
    },
    {
     "name": "stderr",
     "output_type": "stream",
     "text": [
      "/var/folders/sf/72qw163j6sv68zg_2cx67t_h0000gn/T/ipykernel_4385/13663736.py:16: DeprecationWarning: executable_path has been deprecated, please pass in a Service object\n",
      "  driver = webdriver.Chrome(\"chromedriver.exe\", options=options)\n"
     ]
    },
    {
     "name": "stdout",
     "output_type": "stream",
     "text": [
      "Haha\n",
      "Haha1\n",
      "haha6\n"
     ]
    },
    {
     "name": "stderr",
     "output_type": "stream",
     "text": [
      "/var/folders/sf/72qw163j6sv68zg_2cx67t_h0000gn/T/ipykernel_4385/13663736.py:16: DeprecationWarning: executable_path has been deprecated, please pass in a Service object\n",
      "  driver = webdriver.Chrome(\"chromedriver.exe\", options=options)\n"
     ]
    },
    {
     "name": "stdout",
     "output_type": "stream",
     "text": [
      "Haha\n",
      "Haha1\n",
      "haha6\n"
     ]
    },
    {
     "name": "stderr",
     "output_type": "stream",
     "text": [
      "/var/folders/sf/72qw163j6sv68zg_2cx67t_h0000gn/T/ipykernel_4385/13663736.py:16: DeprecationWarning: executable_path has been deprecated, please pass in a Service object\n",
      "  driver = webdriver.Chrome(\"chromedriver.exe\", options=options)\n"
     ]
    },
    {
     "name": "stdout",
     "output_type": "stream",
     "text": [
      "Haha\n",
      "Haha1\n",
      "haha6\n"
     ]
    },
    {
     "name": "stderr",
     "output_type": "stream",
     "text": [
      "/var/folders/sf/72qw163j6sv68zg_2cx67t_h0000gn/T/ipykernel_4385/13663736.py:16: DeprecationWarning: executable_path has been deprecated, please pass in a Service object\n",
      "  driver = webdriver.Chrome(\"chromedriver.exe\", options=options)\n"
     ]
    },
    {
     "name": "stdout",
     "output_type": "stream",
     "text": [
      "Haha\n",
      "Haha1\n",
      "haha6\n"
     ]
    },
    {
     "name": "stderr",
     "output_type": "stream",
     "text": [
      "/var/folders/sf/72qw163j6sv68zg_2cx67t_h0000gn/T/ipykernel_4385/13663736.py:16: DeprecationWarning: executable_path has been deprecated, please pass in a Service object\n",
      "  driver = webdriver.Chrome(\"chromedriver.exe\", options=options)\n"
     ]
    },
    {
     "name": "stdout",
     "output_type": "stream",
     "text": [
      "Haha\n",
      "Haha1\n",
      "haha6\n"
     ]
    },
    {
     "name": "stderr",
     "output_type": "stream",
     "text": [
      "/var/folders/sf/72qw163j6sv68zg_2cx67t_h0000gn/T/ipykernel_4385/13663736.py:16: DeprecationWarning: executable_path has been deprecated, please pass in a Service object\n",
      "  driver = webdriver.Chrome(\"chromedriver.exe\", options=options)\n"
     ]
    },
    {
     "name": "stdout",
     "output_type": "stream",
     "text": [
      "Haha\n",
      "Haha1\n",
      "haha6\n"
     ]
    },
    {
     "name": "stderr",
     "output_type": "stream",
     "text": [
      "/var/folders/sf/72qw163j6sv68zg_2cx67t_h0000gn/T/ipykernel_4385/13663736.py:16: DeprecationWarning: executable_path has been deprecated, please pass in a Service object\n",
      "  driver = webdriver.Chrome(\"chromedriver.exe\", options=options)\n"
     ]
    },
    {
     "name": "stdout",
     "output_type": "stream",
     "text": [
      "Haha\n",
      "Haha1\n",
      "haha6\n"
     ]
    },
    {
     "name": "stderr",
     "output_type": "stream",
     "text": [
      "/var/folders/sf/72qw163j6sv68zg_2cx67t_h0000gn/T/ipykernel_4385/13663736.py:16: DeprecationWarning: executable_path has been deprecated, please pass in a Service object\n",
      "  driver = webdriver.Chrome(\"chromedriver.exe\", options=options)\n"
     ]
    },
    {
     "name": "stdout",
     "output_type": "stream",
     "text": [
      "Haha\n",
      "entereced in except1\n",
      "Haha3\n",
      "haha6\n"
     ]
    },
    {
     "name": "stderr",
     "output_type": "stream",
     "text": [
      "/var/folders/sf/72qw163j6sv68zg_2cx67t_h0000gn/T/ipykernel_4385/13663736.py:16: DeprecationWarning: executable_path has been deprecated, please pass in a Service object\n",
      "  driver = webdriver.Chrome(\"chromedriver.exe\", options=options)\n"
     ]
    },
    {
     "name": "stdout",
     "output_type": "stream",
     "text": [
      "Haha\n",
      "Haha1\n",
      "haha6\n"
     ]
    },
    {
     "name": "stderr",
     "output_type": "stream",
     "text": [
      "/var/folders/sf/72qw163j6sv68zg_2cx67t_h0000gn/T/ipykernel_4385/13663736.py:16: DeprecationWarning: executable_path has been deprecated, please pass in a Service object\n",
      "  driver = webdriver.Chrome(\"chromedriver.exe\", options=options)\n"
     ]
    },
    {
     "name": "stdout",
     "output_type": "stream",
     "text": [
      "Haha\n",
      "Haha1\n",
      "haha6\n"
     ]
    },
    {
     "name": "stderr",
     "output_type": "stream",
     "text": [
      "/var/folders/sf/72qw163j6sv68zg_2cx67t_h0000gn/T/ipykernel_4385/13663736.py:16: DeprecationWarning: executable_path has been deprecated, please pass in a Service object\n",
      "  driver = webdriver.Chrome(\"chromedriver.exe\", options=options)\n"
     ]
    },
    {
     "name": "stdout",
     "output_type": "stream",
     "text": [
      "Haha\n",
      "Haha1\n",
      "haha6\n"
     ]
    },
    {
     "name": "stderr",
     "output_type": "stream",
     "text": [
      "/var/folders/sf/72qw163j6sv68zg_2cx67t_h0000gn/T/ipykernel_4385/13663736.py:16: DeprecationWarning: executable_path has been deprecated, please pass in a Service object\n",
      "  driver = webdriver.Chrome(\"chromedriver.exe\", options=options)\n"
     ]
    },
    {
     "name": "stdout",
     "output_type": "stream",
     "text": [
      "Haha\n",
      "Haha1\n",
      "haha6\n"
     ]
    },
    {
     "name": "stderr",
     "output_type": "stream",
     "text": [
      "/var/folders/sf/72qw163j6sv68zg_2cx67t_h0000gn/T/ipykernel_4385/13663736.py:16: DeprecationWarning: executable_path has been deprecated, please pass in a Service object\n",
      "  driver = webdriver.Chrome(\"chromedriver.exe\", options=options)\n"
     ]
    },
    {
     "name": "stdout",
     "output_type": "stream",
     "text": [
      "Haha\n",
      "Haha1\n",
      "haha6\n"
     ]
    },
    {
     "name": "stderr",
     "output_type": "stream",
     "text": [
      "/var/folders/sf/72qw163j6sv68zg_2cx67t_h0000gn/T/ipykernel_4385/13663736.py:16: DeprecationWarning: executable_path has been deprecated, please pass in a Service object\n",
      "  driver = webdriver.Chrome(\"chromedriver.exe\", options=options)\n"
     ]
    },
    {
     "name": "stdout",
     "output_type": "stream",
     "text": [
      "Haha\n",
      "Haha1\n",
      "haha6\n"
     ]
    },
    {
     "name": "stderr",
     "output_type": "stream",
     "text": [
      "/var/folders/sf/72qw163j6sv68zg_2cx67t_h0000gn/T/ipykernel_4385/13663736.py:16: DeprecationWarning: executable_path has been deprecated, please pass in a Service object\n",
      "  driver = webdriver.Chrome(\"chromedriver.exe\", options=options)\n"
     ]
    },
    {
     "name": "stdout",
     "output_type": "stream",
     "text": [
      "Haha\n",
      "Haha1\n",
      "haha6\n"
     ]
    },
    {
     "name": "stderr",
     "output_type": "stream",
     "text": [
      "/var/folders/sf/72qw163j6sv68zg_2cx67t_h0000gn/T/ipykernel_4385/13663736.py:16: DeprecationWarning: executable_path has been deprecated, please pass in a Service object\n",
      "  driver = webdriver.Chrome(\"chromedriver.exe\", options=options)\n"
     ]
    },
    {
     "name": "stdout",
     "output_type": "stream",
     "text": [
      "Haha\n",
      "Haha1\n",
      "haha6\n"
     ]
    },
    {
     "name": "stderr",
     "output_type": "stream",
     "text": [
      "/var/folders/sf/72qw163j6sv68zg_2cx67t_h0000gn/T/ipykernel_4385/13663736.py:16: DeprecationWarning: executable_path has been deprecated, please pass in a Service object\n",
      "  driver = webdriver.Chrome(\"chromedriver.exe\", options=options)\n"
     ]
    },
    {
     "name": "stdout",
     "output_type": "stream",
     "text": [
      "Haha\n",
      "Haha1\n",
      "haha6\n"
     ]
    },
    {
     "name": "stderr",
     "output_type": "stream",
     "text": [
      "/var/folders/sf/72qw163j6sv68zg_2cx67t_h0000gn/T/ipykernel_4385/13663736.py:16: DeprecationWarning: executable_path has been deprecated, please pass in a Service object\n",
      "  driver = webdriver.Chrome(\"chromedriver.exe\", options=options)\n"
     ]
    },
    {
     "name": "stdout",
     "output_type": "stream",
     "text": [
      "Haha\n",
      "Haha1\n",
      "haha6\n"
     ]
    },
    {
     "name": "stderr",
     "output_type": "stream",
     "text": [
      "/var/folders/sf/72qw163j6sv68zg_2cx67t_h0000gn/T/ipykernel_4385/13663736.py:16: DeprecationWarning: executable_path has been deprecated, please pass in a Service object\n",
      "  driver = webdriver.Chrome(\"chromedriver.exe\", options=options)\n"
     ]
    },
    {
     "name": "stdout",
     "output_type": "stream",
     "text": [
      "Haha\n",
      "Haha1\n",
      "haha6\n"
     ]
    },
    {
     "name": "stderr",
     "output_type": "stream",
     "text": [
      "/var/folders/sf/72qw163j6sv68zg_2cx67t_h0000gn/T/ipykernel_4385/13663736.py:16: DeprecationWarning: executable_path has been deprecated, please pass in a Service object\n",
      "  driver = webdriver.Chrome(\"chromedriver.exe\", options=options)\n"
     ]
    },
    {
     "name": "stdout",
     "output_type": "stream",
     "text": [
      "Haha\n",
      "Haha1\n",
      "haha6\n"
     ]
    },
    {
     "name": "stderr",
     "output_type": "stream",
     "text": [
      "/var/folders/sf/72qw163j6sv68zg_2cx67t_h0000gn/T/ipykernel_4385/13663736.py:16: DeprecationWarning: executable_path has been deprecated, please pass in a Service object\n",
      "  driver = webdriver.Chrome(\"chromedriver.exe\", options=options)\n"
     ]
    },
    {
     "name": "stdout",
     "output_type": "stream",
     "text": [
      "Haha\n",
      "Haha1\n",
      "haha6\n"
     ]
    },
    {
     "name": "stderr",
     "output_type": "stream",
     "text": [
      "/var/folders/sf/72qw163j6sv68zg_2cx67t_h0000gn/T/ipykernel_4385/13663736.py:16: DeprecationWarning: executable_path has been deprecated, please pass in a Service object\n",
      "  driver = webdriver.Chrome(\"chromedriver.exe\", options=options)\n"
     ]
    },
    {
     "name": "stdout",
     "output_type": "stream",
     "text": [
      "Haha\n",
      "Haha1\n",
      "haha6\n"
     ]
    },
    {
     "name": "stderr",
     "output_type": "stream",
     "text": [
      "/var/folders/sf/72qw163j6sv68zg_2cx67t_h0000gn/T/ipykernel_4385/13663736.py:16: DeprecationWarning: executable_path has been deprecated, please pass in a Service object\n",
      "  driver = webdriver.Chrome(\"chromedriver.exe\", options=options)\n"
     ]
    },
    {
     "name": "stdout",
     "output_type": "stream",
     "text": [
      "Haha\n",
      "Haha1\n",
      "haha6\n"
     ]
    },
    {
     "name": "stderr",
     "output_type": "stream",
     "text": [
      "/var/folders/sf/72qw163j6sv68zg_2cx67t_h0000gn/T/ipykernel_4385/13663736.py:16: DeprecationWarning: executable_path has been deprecated, please pass in a Service object\n",
      "  driver = webdriver.Chrome(\"chromedriver.exe\", options=options)\n"
     ]
    },
    {
     "name": "stdout",
     "output_type": "stream",
     "text": [
      "Haha\n",
      "Haha1\n",
      "haha6\n"
     ]
    },
    {
     "name": "stderr",
     "output_type": "stream",
     "text": [
      "/var/folders/sf/72qw163j6sv68zg_2cx67t_h0000gn/T/ipykernel_4385/13663736.py:16: DeprecationWarning: executable_path has been deprecated, please pass in a Service object\n",
      "  driver = webdriver.Chrome(\"chromedriver.exe\", options=options)\n"
     ]
    },
    {
     "name": "stdout",
     "output_type": "stream",
     "text": [
      "Haha\n",
      "Haha1\n",
      "haha6\n"
     ]
    },
    {
     "name": "stderr",
     "output_type": "stream",
     "text": [
      "/var/folders/sf/72qw163j6sv68zg_2cx67t_h0000gn/T/ipykernel_4385/13663736.py:16: DeprecationWarning: executable_path has been deprecated, please pass in a Service object\n",
      "  driver = webdriver.Chrome(\"chromedriver.exe\", options=options)\n"
     ]
    },
    {
     "name": "stdout",
     "output_type": "stream",
     "text": [
      "Haha\n",
      "Haha1\n",
      "haha6\n"
     ]
    },
    {
     "name": "stderr",
     "output_type": "stream",
     "text": [
      "/var/folders/sf/72qw163j6sv68zg_2cx67t_h0000gn/T/ipykernel_4385/13663736.py:16: DeprecationWarning: executable_path has been deprecated, please pass in a Service object\n",
      "  driver = webdriver.Chrome(\"chromedriver.exe\", options=options)\n"
     ]
    },
    {
     "name": "stdout",
     "output_type": "stream",
     "text": [
      "Haha\n",
      "Haha1\n",
      "haha6\n"
     ]
    },
    {
     "name": "stderr",
     "output_type": "stream",
     "text": [
      "/var/folders/sf/72qw163j6sv68zg_2cx67t_h0000gn/T/ipykernel_4385/13663736.py:16: DeprecationWarning: executable_path has been deprecated, please pass in a Service object\n",
      "  driver = webdriver.Chrome(\"chromedriver.exe\", options=options)\n"
     ]
    },
    {
     "name": "stdout",
     "output_type": "stream",
     "text": [
      "Haha\n",
      "Haha1\n",
      "haha6\n"
     ]
    },
    {
     "name": "stderr",
     "output_type": "stream",
     "text": [
      "/var/folders/sf/72qw163j6sv68zg_2cx67t_h0000gn/T/ipykernel_4385/13663736.py:16: DeprecationWarning: executable_path has been deprecated, please pass in a Service object\n",
      "  driver = webdriver.Chrome(\"chromedriver.exe\", options=options)\n"
     ]
    },
    {
     "name": "stdout",
     "output_type": "stream",
     "text": [
      "Haha\n",
      "Haha1\n",
      "haha6\n"
     ]
    },
    {
     "name": "stderr",
     "output_type": "stream",
     "text": [
      "/var/folders/sf/72qw163j6sv68zg_2cx67t_h0000gn/T/ipykernel_4385/13663736.py:16: DeprecationWarning: executable_path has been deprecated, please pass in a Service object\n",
      "  driver = webdriver.Chrome(\"chromedriver.exe\", options=options)\n"
     ]
    },
    {
     "name": "stdout",
     "output_type": "stream",
     "text": [
      "Haha\n",
      "Haha1\n",
      "haha6\n"
     ]
    },
    {
     "name": "stderr",
     "output_type": "stream",
     "text": [
      "/var/folders/sf/72qw163j6sv68zg_2cx67t_h0000gn/T/ipykernel_4385/13663736.py:16: DeprecationWarning: executable_path has been deprecated, please pass in a Service object\n",
      "  driver = webdriver.Chrome(\"chromedriver.exe\", options=options)\n"
     ]
    },
    {
     "name": "stdout",
     "output_type": "stream",
     "text": [
      "Haha\n",
      "Haha1\n",
      "haha6\n"
     ]
    },
    {
     "name": "stderr",
     "output_type": "stream",
     "text": [
      "/var/folders/sf/72qw163j6sv68zg_2cx67t_h0000gn/T/ipykernel_4385/13663736.py:16: DeprecationWarning: executable_path has been deprecated, please pass in a Service object\n",
      "  driver = webdriver.Chrome(\"chromedriver.exe\", options=options)\n"
     ]
    },
    {
     "name": "stdout",
     "output_type": "stream",
     "text": [
      "Haha\n",
      "Haha1\n",
      "haha6\n"
     ]
    },
    {
     "name": "stderr",
     "output_type": "stream",
     "text": [
      "/var/folders/sf/72qw163j6sv68zg_2cx67t_h0000gn/T/ipykernel_4385/13663736.py:16: DeprecationWarning: executable_path has been deprecated, please pass in a Service object\n",
      "  driver = webdriver.Chrome(\"chromedriver.exe\", options=options)\n"
     ]
    },
    {
     "name": "stdout",
     "output_type": "stream",
     "text": [
      "Haha\n",
      "Haha1\n",
      "haha6\n"
     ]
    },
    {
     "name": "stderr",
     "output_type": "stream",
     "text": [
      "/var/folders/sf/72qw163j6sv68zg_2cx67t_h0000gn/T/ipykernel_4385/13663736.py:16: DeprecationWarning: executable_path has been deprecated, please pass in a Service object\n",
      "  driver = webdriver.Chrome(\"chromedriver.exe\", options=options)\n"
     ]
    },
    {
     "name": "stdout",
     "output_type": "stream",
     "text": [
      "Haha\n",
      "Haha1\n",
      "haha6\n"
     ]
    },
    {
     "name": "stderr",
     "output_type": "stream",
     "text": [
      "/var/folders/sf/72qw163j6sv68zg_2cx67t_h0000gn/T/ipykernel_4385/13663736.py:16: DeprecationWarning: executable_path has been deprecated, please pass in a Service object\n",
      "  driver = webdriver.Chrome(\"chromedriver.exe\", options=options)\n"
     ]
    },
    {
     "name": "stdout",
     "output_type": "stream",
     "text": [
      "Haha\n",
      "Haha1\n",
      "haha6\n"
     ]
    },
    {
     "name": "stderr",
     "output_type": "stream",
     "text": [
      "/var/folders/sf/72qw163j6sv68zg_2cx67t_h0000gn/T/ipykernel_4385/13663736.py:16: DeprecationWarning: executable_path has been deprecated, please pass in a Service object\n",
      "  driver = webdriver.Chrome(\"chromedriver.exe\", options=options)\n"
     ]
    },
    {
     "name": "stdout",
     "output_type": "stream",
     "text": [
      "Haha\n",
      "Haha1\n",
      "haha6\n"
     ]
    },
    {
     "name": "stderr",
     "output_type": "stream",
     "text": [
      "/var/folders/sf/72qw163j6sv68zg_2cx67t_h0000gn/T/ipykernel_4385/13663736.py:16: DeprecationWarning: executable_path has been deprecated, please pass in a Service object\n",
      "  driver = webdriver.Chrome(\"chromedriver.exe\", options=options)\n"
     ]
    },
    {
     "name": "stdout",
     "output_type": "stream",
     "text": [
      "Haha\n",
      "Haha1\n",
      "haha6\n"
     ]
    },
    {
     "name": "stderr",
     "output_type": "stream",
     "text": [
      "/var/folders/sf/72qw163j6sv68zg_2cx67t_h0000gn/T/ipykernel_4385/13663736.py:16: DeprecationWarning: executable_path has been deprecated, please pass in a Service object\n",
      "  driver = webdriver.Chrome(\"chromedriver.exe\", options=options)\n"
     ]
    },
    {
     "name": "stdout",
     "output_type": "stream",
     "text": [
      "Haha\n",
      "Haha1\n",
      "haha6\n"
     ]
    },
    {
     "name": "stderr",
     "output_type": "stream",
     "text": [
      "/var/folders/sf/72qw163j6sv68zg_2cx67t_h0000gn/T/ipykernel_4385/13663736.py:16: DeprecationWarning: executable_path has been deprecated, please pass in a Service object\n",
      "  driver = webdriver.Chrome(\"chromedriver.exe\", options=options)\n"
     ]
    },
    {
     "name": "stdout",
     "output_type": "stream",
     "text": [
      "Haha\n",
      "Haha1\n",
      "haha6\n"
     ]
    },
    {
     "name": "stderr",
     "output_type": "stream",
     "text": [
      "/var/folders/sf/72qw163j6sv68zg_2cx67t_h0000gn/T/ipykernel_4385/13663736.py:16: DeprecationWarning: executable_path has been deprecated, please pass in a Service object\n",
      "  driver = webdriver.Chrome(\"chromedriver.exe\", options=options)\n"
     ]
    },
    {
     "name": "stdout",
     "output_type": "stream",
     "text": [
      "Haha\n",
      "entereced in except1\n",
      "Haha3\n",
      "haha6\n"
     ]
    },
    {
     "name": "stderr",
     "output_type": "stream",
     "text": [
      "/var/folders/sf/72qw163j6sv68zg_2cx67t_h0000gn/T/ipykernel_4385/13663736.py:16: DeprecationWarning: executable_path has been deprecated, please pass in a Service object\n",
      "  driver = webdriver.Chrome(\"chromedriver.exe\", options=options)\n"
     ]
    },
    {
     "name": "stdout",
     "output_type": "stream",
     "text": [
      "Haha\n",
      "Haha1\n",
      "haha6\n"
     ]
    },
    {
     "name": "stderr",
     "output_type": "stream",
     "text": [
      "/var/folders/sf/72qw163j6sv68zg_2cx67t_h0000gn/T/ipykernel_4385/13663736.py:16: DeprecationWarning: executable_path has been deprecated, please pass in a Service object\n",
      "  driver = webdriver.Chrome(\"chromedriver.exe\", options=options)\n"
     ]
    },
    {
     "name": "stdout",
     "output_type": "stream",
     "text": [
      "Haha\n",
      "entereced in except1\n",
      "Haha3\n",
      "haha6\n"
     ]
    },
    {
     "name": "stderr",
     "output_type": "stream",
     "text": [
      "/var/folders/sf/72qw163j6sv68zg_2cx67t_h0000gn/T/ipykernel_4385/13663736.py:16: DeprecationWarning: executable_path has been deprecated, please pass in a Service object\n",
      "  driver = webdriver.Chrome(\"chromedriver.exe\", options=options)\n"
     ]
    },
    {
     "name": "stdout",
     "output_type": "stream",
     "text": [
      "Haha\n",
      "entereced in except1\n",
      "entered in except2\n",
      "haha6\n"
     ]
    },
    {
     "name": "stderr",
     "output_type": "stream",
     "text": [
      "/var/folders/sf/72qw163j6sv68zg_2cx67t_h0000gn/T/ipykernel_4385/13663736.py:16: DeprecationWarning: executable_path has been deprecated, please pass in a Service object\n",
      "  driver = webdriver.Chrome(\"chromedriver.exe\", options=options)\n"
     ]
    },
    {
     "name": "stdout",
     "output_type": "stream",
     "text": [
      "Haha\n",
      "Haha1\n",
      "haha6\n"
     ]
    },
    {
     "name": "stderr",
     "output_type": "stream",
     "text": [
      "/var/folders/sf/72qw163j6sv68zg_2cx67t_h0000gn/T/ipykernel_4385/13663736.py:16: DeprecationWarning: executable_path has been deprecated, please pass in a Service object\n",
      "  driver = webdriver.Chrome(\"chromedriver.exe\", options=options)\n"
     ]
    },
    {
     "name": "stdout",
     "output_type": "stream",
     "text": [
      "Haha\n",
      "Haha1\n",
      "haha6\n"
     ]
    },
    {
     "name": "stderr",
     "output_type": "stream",
     "text": [
      "/var/folders/sf/72qw163j6sv68zg_2cx67t_h0000gn/T/ipykernel_4385/13663736.py:16: DeprecationWarning: executable_path has been deprecated, please pass in a Service object\n",
      "  driver = webdriver.Chrome(\"chromedriver.exe\", options=options)\n"
     ]
    },
    {
     "name": "stdout",
     "output_type": "stream",
     "text": [
      "Haha\n",
      "Haha1\n",
      "haha6\n"
     ]
    },
    {
     "name": "stderr",
     "output_type": "stream",
     "text": [
      "/var/folders/sf/72qw163j6sv68zg_2cx67t_h0000gn/T/ipykernel_4385/13663736.py:16: DeprecationWarning: executable_path has been deprecated, please pass in a Service object\n",
      "  driver = webdriver.Chrome(\"chromedriver.exe\", options=options)\n"
     ]
    },
    {
     "name": "stdout",
     "output_type": "stream",
     "text": [
      "Haha\n",
      "entereced in except1\n",
      "Haha3\n",
      "haha6\n"
     ]
    },
    {
     "name": "stderr",
     "output_type": "stream",
     "text": [
      "/var/folders/sf/72qw163j6sv68zg_2cx67t_h0000gn/T/ipykernel_4385/13663736.py:16: DeprecationWarning: executable_path has been deprecated, please pass in a Service object\n",
      "  driver = webdriver.Chrome(\"chromedriver.exe\", options=options)\n"
     ]
    },
    {
     "name": "stdout",
     "output_type": "stream",
     "text": [
      "Haha\n",
      "entereced in except1\n",
      "Haha3\n",
      "haha6\n"
     ]
    },
    {
     "name": "stderr",
     "output_type": "stream",
     "text": [
      "/var/folders/sf/72qw163j6sv68zg_2cx67t_h0000gn/T/ipykernel_4385/13663736.py:16: DeprecationWarning: executable_path has been deprecated, please pass in a Service object\n",
      "  driver = webdriver.Chrome(\"chromedriver.exe\", options=options)\n"
     ]
    },
    {
     "name": "stdout",
     "output_type": "stream",
     "text": [
      "Haha\n",
      "Haha1\n",
      "haha6\n"
     ]
    },
    {
     "name": "stderr",
     "output_type": "stream",
     "text": [
      "/var/folders/sf/72qw163j6sv68zg_2cx67t_h0000gn/T/ipykernel_4385/13663736.py:16: DeprecationWarning: executable_path has been deprecated, please pass in a Service object\n",
      "  driver = webdriver.Chrome(\"chromedriver.exe\", options=options)\n"
     ]
    },
    {
     "name": "stdout",
     "output_type": "stream",
     "text": [
      "Haha\n",
      "Haha1\n",
      "haha6\n"
     ]
    },
    {
     "name": "stderr",
     "output_type": "stream",
     "text": [
      "/var/folders/sf/72qw163j6sv68zg_2cx67t_h0000gn/T/ipykernel_4385/13663736.py:16: DeprecationWarning: executable_path has been deprecated, please pass in a Service object\n",
      "  driver = webdriver.Chrome(\"chromedriver.exe\", options=options)\n"
     ]
    },
    {
     "name": "stdout",
     "output_type": "stream",
     "text": [
      "Haha\n",
      "Haha1\n",
      "haha6\n"
     ]
    },
    {
     "name": "stderr",
     "output_type": "stream",
     "text": [
      "/var/folders/sf/72qw163j6sv68zg_2cx67t_h0000gn/T/ipykernel_4385/13663736.py:16: DeprecationWarning: executable_path has been deprecated, please pass in a Service object\n",
      "  driver = webdriver.Chrome(\"chromedriver.exe\", options=options)\n"
     ]
    },
    {
     "name": "stdout",
     "output_type": "stream",
     "text": [
      "Haha\n",
      "entereced in except1\n",
      "entered in except2\n",
      "haha6\n"
     ]
    },
    {
     "name": "stderr",
     "output_type": "stream",
     "text": [
      "/var/folders/sf/72qw163j6sv68zg_2cx67t_h0000gn/T/ipykernel_4385/13663736.py:16: DeprecationWarning: executable_path has been deprecated, please pass in a Service object\n",
      "  driver = webdriver.Chrome(\"chromedriver.exe\", options=options)\n"
     ]
    },
    {
     "name": "stdout",
     "output_type": "stream",
     "text": [
      "Haha\n",
      "Haha1\n",
      "haha6\n"
     ]
    }
   ],
   "source": [
    "open_dorse_name=[]\n",
    "name_similarity_score=[]\n",
    "og_name=[]\n",
    "options = webdriver.ChromeOptions()\n",
    "options.add_argument('--ignore-certificate-errors')\n",
    "#options.add_argument('--incognito')\n",
    "#options.add_argument('--headless')\n",
    "driver = webdriver.Chrome(\"chromedriver.exe\", options=options)\n",
    "wait = WebDriverWait(driver, 15)\n",
    "\n",
    "\n",
    "#mens search\n",
    "timeout = 10\n",
    "\n",
    "for i in range(0,100):\n",
    "    driver = webdriver.Chrome(\"chromedriver.exe\", options=options)\n",
    "    driver.get(\"https://opendorse.com\")\n",
    "    time.sleep(2)\n",
    "    try:\n",
    "        #wait.until(EC.presence_of_element_located((By.XPATH, '/html/body/div[1]/div/div/div/div[1]/div/input')))\n",
    "        box = driver.find_element(\"xpath\",'/html/body/div[1]/div/div/div/div[1]/div/input')\n",
    "\n",
    "        box.send_keys(men_300[i])\n",
    "        box.send_keys(Keys.RETURN)\n",
    "        time.sleep(10)\n",
    "        print(\"Haha\")\n",
    "        try:\n",
    "            element_present = EC.presence_of_element_located((By.XPATH, '/html/body/div[1]/main/div/div[3]/div/a[1]/div/div[2]/p[1]'))\n",
    "            WebDriverWait(driver, timeout).until(element_present)\n",
    "            name=str(driver.find_element(\"xpath\",'/html/body/div[1]/main/div/div[3]/div/a[1]/div/div[2]/p[1]').text)\n",
    "            print(\"Haha1\")\n",
    "            \n",
    "        except TimeoutException:\n",
    "            print(\"entereced in except1\")\n",
    "\n",
    "            try:\n",
    "                element_present = EC.presence_of_element_located((By.XPATH, '/html/body/div[1]/main/div/div[5]/div/a[1]/div/div[2]/p[1]'))\n",
    "                WebDriverWait(driver, timeout).until(element_present)\n",
    "                name=str(driver.find_element(\"xpath\",'/html/body/div[1]/main/div/div[5]/div/a[1]/div/div[2]/p[1]').text)\n",
    "                print(\"Haha3\")\n",
    "            except TimeoutException:\n",
    "                name=\"Name not found\"\n",
    "                print(\"entered in except2\")\n",
    "\n",
    "        \n",
    "    except TimeoutException:\n",
    "        name=\"Name not found\"\n",
    "        print(\"entered in except3\")\n",
    "\n",
    "\n",
    "    print('haha6')\n",
    "    og_name.append(str(men_300[i]))\n",
    "    open_dorse_name.append(name)\n",
    "    name_similarity_score.append(similar(name,men_300[i]))\n",
    "    driver.close()\n",
    "\n",
    "\n",
    "men_search = {'given_name':og_name,'opendorse_name':open_dorse_name,'name_similarity_score':name_similarity_score}\n",
    "men_search_df= pd.DataFrame(men_search)\n"
   ]
  },
  {
   "cell_type": "code",
   "execution_count": 46,
   "id": "9076b4f6",
   "metadata": {},
   "outputs": [
    {
     "data": {
      "text/plain": [
       "['Milan Acimovic',\n",
       " 'Travis Adams',\n",
       " 'Daniel Adediran',\n",
       " 'Tobi Adelodun',\n",
       " 'Ayden Adeyanju-Jackson',\n",
       " 'Hugo Adin',\n",
       " 'Keyan Adkins',\n",
       " 'Christopher Adu',\n",
       " 'Kwasi Adu-Poku',\n",
       " 'Joel Adu-Queye',\n",
       " 'Somachi Agbapu',\n",
       " 'Jeremy Aibi',\n",
       " 'Akot Aken',\n",
       " 'Adeboye Akinode',\n",
       " 'Emmanuel Akintunde',\n",
       " 'Nikita Akophjanov',\n",
       " 'Sami Al Uariachi',\n",
       " 'Nikolay Alabi',\n",
       " 'Bankole Alade',\n",
       " 'Diar Alkaldy',\n",
       " 'Inaki Alvarez',\n",
       " 'Moreau Amadou Darlington',\n",
       " 'Narcisse Ambanza',\n",
       " 'Maxwell Amoafo',\n",
       " 'Elisha Ampofo',\n",
       " 'Blake Anderson',\n",
       " 'Lincoln Anderson',\n",
       " 'Marcus Anderson',\n",
       " 'Ethan Andrew',\n",
       " 'Justin Andrew',\n",
       " 'Yaw Antwi-Boasiako',\n",
       " 'Kemel Archer',\n",
       " 'Adrian Armstrong',\n",
       " 'Andre Arruda',\n",
       " 'Quintin Ashitei',\n",
       " 'Shandon Ashitei',\n",
       " 'Grant Audu',\n",
       " 'Brandon Aultman',\n",
       " 'Emile Babin',\n",
       " 'Elliot Bailey',\n",
       " 'Parmvir Bains',\n",
       " 'Sukhjot Bains',\n",
       " 'Sukhraj Bains',\n",
       " 'Jaskarn Bajwa',\n",
       " 'Navdeep Bajwa',\n",
       " 'Simar Bajwa',\n",
       " 'Tariq Bakri-Hamad',\n",
       " 'Vicente Balitaan',\n",
       " 'Matthew Bardoel',\n",
       " 'Nathan Barker',\n",
       " 'Matt Barnard',\n",
       " 'Nick Barnard',\n",
       " 'Christopher Barrett',\n",
       " 'Jamani Barrett',\n",
       " 'Jackson Bayles',\n",
       " 'Hans Befus',\n",
       " 'Adnan Begovic',\n",
       " 'Antoney Bell',\n",
       " 'Maxime Bellony',\n",
       " 'C.J. Bennett',\n",
       " 'Adam Benrabah',\n",
       " 'Benji Bercovitch',\n",
       " 'Alain Bernard',\n",
       " 'Brandon Bernard',\n",
       " 'Francois-Alexandre Betchi',\n",
       " 'Cameron Bett',\n",
       " 'Dhivaan Bhogal',\n",
       " 'Anton Bilous',\n",
       " 'Kessler Bishop',\n",
       " 'Treyvon Blake',\n",
       " 'Marley Blommers',\n",
       " 'Teddy Bodock Kobe',\n",
       " 'David Bohoussou',\n",
       " 'Sebastiaan Boissevain',\n",
       " 'Nathaniel Boisvert',\n",
       " 'Samuel Bouchard',\n",
       " 'Zak Bowles',\n",
       " 'Arnaud Boyer-Cillis',\n",
       " 'Riley Braich',\n",
       " 'Jordan Brathwaite',\n",
       " 'Landon Brickenden',\n",
       " 'Dakelle Brooks',\n",
       " 'Tyler Brown',\n",
       " 'Rashawn Browne',\n",
       " 'Taylor Browne',\n",
       " 'Kevin Buakuma-Sayers',\n",
       " 'Austin Burchat',\n",
       " 'Shamar Burrows',\n",
       " 'Jalen Butler',\n",
       " 'Justace Byam',\n",
       " 'Olivier Cadieux',\n",
       " 'Daniel Caldwell',\n",
       " 'Jason Callaghan',\n",
       " 'Peyton Campbell',\n",
       " 'Samuel Campbell',\n",
       " 'Alex Carson',\n",
       " 'Joany Castor-Thadal',\n",
       " 'Daniel Cayer',\n",
       " 'Fafa Ceesay',\n",
       " 'Gaetan Chamand']"
      ]
     },
     "execution_count": 46,
     "metadata": {},
     "output_type": "execute_result"
    }
   ],
   "source": [
    "og_name"
   ]
  },
  {
   "cell_type": "code",
   "execution_count": 47,
   "id": "236dd519",
   "metadata": {},
   "outputs": [
    {
     "data": {
      "text/plain": [
       "['Milan Fabian',\n",
       " 'Travis Vokolek',\n",
       " 'Abigail Daniel',\n",
       " 'Tobi Osunsanmi',\n",
       " 'Jackson Ness',\n",
       " 'Adin Huntington',\n",
       " 'Kristen Adkins',\n",
       " 'Christopher Grunke',\n",
       " 'Kojo Poku',\n",
       " 'Joel Paulson',\n",
       " 'Name not found',\n",
       " 'Jeremy Cody',\n",
       " 'Bol Akot',\n",
       " 'Name not found',\n",
       " 'Emmanuel Davis',\n",
       " 'Nikita Bolotsky',\n",
       " 'Sami Osmani',\n",
       " 'Nikolay Boyce',\n",
       " 'Yusuf Alade',\n",
       " 'Gevork Diarbian',\n",
       " 'Luis Alvarez',\n",
       " 'Claire Moreau',\n",
       " 'Narcisse Ambanza',\n",
       " 'Maxwell Worship',\n",
       " 'Elisha Guidry',\n",
       " 'Blake Wilhoite',\n",
       " 'Lincoln Heck',\n",
       " 'Marcus Williams',\n",
       " 'Andrew Capobianco',\n",
       " 'Andrew Capobianco',\n",
       " 'Kojo Antwi',\n",
       " 'Jillian Archer',\n",
       " 'Adrian Martinez',\n",
       " 'Andre Saleh',\n",
       " 'Quintin Cooks',\n",
       " 'Shandon Reitzell',\n",
       " 'Jaydon Grant',\n",
       " 'Brandon Weatherspoon',\n",
       " 'Emile Kazeneza',\n",
       " 'Bailey Timmons',\n",
       " 'Brandon Bains',\n",
       " 'Brandon Bains',\n",
       " 'Brandon Bains',\n",
       " 'Name not found',\n",
       " 'Name not found',\n",
       " 'Simar Thomas',\n",
       " 'Name not found',\n",
       " 'Vicente Janik',\n",
       " 'Matthew Vitale',\n",
       " 'Nathan Willis',\n",
       " 'Matt Bockhorst',\n",
       " 'Addison Barnard',\n",
       " 'Dylan Barrett',\n",
       " 'Dylan Barrett',\n",
       " 'Jackson Ness',\n",
       " 'Hans Lillis',\n",
       " 'Adnan Erraki',\n",
       " 'Darrian Bell',\n",
       " 'Maxime Filion',\n",
       " 'Bennett Meredith',\n",
       " 'Adam Boselli',\n",
       " 'Benji Eckerle',\n",
       " 'Bernard Blakey',\n",
       " 'Brandon Weatherspoon',\n",
       " 'Jonathan Francois',\n",
       " 'Cameron Smith',\n",
       " 'Ammit Bhogal',\n",
       " 'Anton Fant',\n",
       " 'Christian Bishop',\n",
       " 'Blake Wilhoite',\n",
       " 'Marley Mailloux',\n",
       " 'Kobe Head',\n",
       " 'David Foust',\n",
       " 'Sebastiaan Bornauw',\n",
       " 'Braden Boisvert',\n",
       " 'Samuel Akem',\n",
       " 'Zak Hartleb',\n",
       " 'Joslyn Boyer',\n",
       " 'Syaire Riley',\n",
       " 'Jordan Lau',\n",
       " 'Landon McMonagle',\n",
       " 'Katie Brooks',\n",
       " 'Joe Tyler',\n",
       " 'Rashawn Williams',\n",
       " 'Mackenzie Taylor',\n",
       " 'Kevin McCoy',\n",
       " 'Austin Goodsel',\n",
       " 'Dylan Burrows',\n",
       " 'Jalen Ricks',\n",
       " 'Name not found',\n",
       " 'Olivier Karbownik',\n",
       " 'Abigail Daniel',\n",
       " 'Jason Swarens',\n",
       " 'Brandon Campbell',\n",
       " 'Brandon Campbell',\n",
       " 'Carson Orr',\n",
       " 'Nicole Castor',\n",
       " 'Abigail Daniel',\n",
       " 'Name not found',\n",
       " 'Gaetan Haas']"
      ]
     },
     "execution_count": 47,
     "metadata": {},
     "output_type": "execute_result"
    }
   ],
   "source": [
    "open_dorse_name"
   ]
  },
  {
   "cell_type": "code",
   "execution_count": 48,
   "id": "3fffd169",
   "metadata": {},
   "outputs": [
    {
     "data": {
      "text/plain": [
       "[0.5384615384615384,\n",
       " 0.5384615384615384,\n",
       " 0.41379310344827586,\n",
       " 0.5185185185185185,\n",
       " 0.4117647058823529,\n",
       " 0.3333333333333333,\n",
       " 0.7692307692307693,\n",
       " 0.7878787878787878,\n",
       " 0.5217391304347826,\n",
       " 0.46153846153846156,\n",
       " 0.21428571428571427,\n",
       " 0.6363636363636364,\n",
       " 0.47058823529411764,\n",
       " 0.3448275862068966,\n",
       " 0.625,\n",
       " 0.5625,\n",
       " 0.5185185185185185,\n",
       " 0.6153846153846154,\n",
       " 0.5,\n",
       " 0.37037037037037035,\n",
       " 0.72,\n",
       " 0.32432432432432434,\n",
       " 1.0,\n",
       " 0.6206896551724138,\n",
       " 0.5384615384615384,\n",
       " 0.5,\n",
       " 0.6428571428571429,\n",
       " 0.5333333333333333,\n",
       " 0.41379310344827586,\n",
       " 0.4,\n",
       " 0.42857142857142855,\n",
       " 0.6153846153846154,\n",
       " 0.6451612903225806,\n",
       " 0.6086956521739131,\n",
       " 0.6428571428571429,\n",
       " 0.6451612903225806,\n",
       " 0.45454545454545453,\n",
       " 0.5714285714285714,\n",
       " 0.64,\n",
       " 0.4444444444444444,\n",
       " 0.5384615384615384,\n",
       " 0.5384615384615384,\n",
       " 0.6153846153846154,\n",
       " 0.14814814814814814,\n",
       " 0.2962962962962963,\n",
       " 0.6086956521739131,\n",
       " 0.1935483870967742,\n",
       " 0.6896551724137931,\n",
       " 0.6896551724137931,\n",
       " 0.5384615384615384,\n",
       " 0.5384615384615384,\n",
       " 0.6666666666666666,\n",
       " 0.5,\n",
       " 0.7407407407407407,\n",
       " 0.7692307692307693,\n",
       " 0.5714285714285714,\n",
       " 0.56,\n",
       " 0.5,\n",
       " 0.7407407407407407,\n",
       " 0.5,\n",
       " 0.56,\n",
       " 0.5517241379310345,\n",
       " 0.5185185185185185,\n",
       " 0.6285714285714286,\n",
       " 0.38095238095238093,\n",
       " 0.72,\n",
       " 0.6153846153846154,\n",
       " 0.5454545454545454,\n",
       " 0.5333333333333333,\n",
       " 0.37037037037037035,\n",
       " 0.6,\n",
       " 0.3076923076923077,\n",
       " 0.6923076923076923,\n",
       " 0.717948717948718,\n",
       " 0.6666666666666666,\n",
       " 0.5384615384615384,\n",
       " 0.5714285714285714,\n",
       " 0.45161290322580644,\n",
       " 0.4166666666666667,\n",
       " 0.5925925925925926,\n",
       " 0.6060606060606061,\n",
       " 0.6923076923076923,\n",
       " 0.5,\n",
       " 0.5333333333333333,\n",
       " 0.41379310344827586,\n",
       " 0.45161290322580644,\n",
       " 0.5,\n",
       " 0.6666666666666666,\n",
       " 0.5217391304347826,\n",
       " 0.15384615384615385,\n",
       " 0.625,\n",
       " 0.41379310344827586,\n",
       " 0.5714285714285714,\n",
       " 0.7096774193548387,\n",
       " 0.6451612903225806,\n",
       " 0.5714285714285714,\n",
       " 0.5,\n",
       " 0.46153846153846156,\n",
       " 0.16,\n",
       " 0.72]"
      ]
     },
     "execution_count": 48,
     "metadata": {},
     "output_type": "execute_result"
    }
   ],
   "source": [
    "name_similarity_score"
   ]
  },
  {
   "cell_type": "code",
   "execution_count": 50,
   "id": "db98b194",
   "metadata": {},
   "outputs": [],
   "source": [
    "men_search_df.to_csv('men_search100.csv')\n"
   ]
  },
  {
   "cell_type": "code",
   "execution_count": 51,
   "id": "c7ffff7b",
   "metadata": {},
   "outputs": [
    {
     "name": "stderr",
     "output_type": "stream",
     "text": [
      "/var/folders/sf/72qw163j6sv68zg_2cx67t_h0000gn/T/ipykernel_4385/3891612246.py:8: DeprecationWarning: executable_path has been deprecated, please pass in a Service object\n",
      "  driver = webdriver.Chrome(\"chromedriver.exe\", options=options)\n",
      "/var/folders/sf/72qw163j6sv68zg_2cx67t_h0000gn/T/ipykernel_4385/3891612246.py:16: DeprecationWarning: executable_path has been deprecated, please pass in a Service object\n",
      "  driver = webdriver.Chrome(\"chromedriver.exe\", options=options)\n"
     ]
    },
    {
     "name": "stdout",
     "output_type": "stream",
     "text": [
      "Haha\n",
      "Haha1\n",
      "haha6\n"
     ]
    },
    {
     "name": "stderr",
     "output_type": "stream",
     "text": [
      "/var/folders/sf/72qw163j6sv68zg_2cx67t_h0000gn/T/ipykernel_4385/3891612246.py:16: DeprecationWarning: executable_path has been deprecated, please pass in a Service object\n",
      "  driver = webdriver.Chrome(\"chromedriver.exe\", options=options)\n"
     ]
    },
    {
     "name": "stdout",
     "output_type": "stream",
     "text": [
      "Haha\n",
      "Haha1\n",
      "haha6\n"
     ]
    },
    {
     "name": "stderr",
     "output_type": "stream",
     "text": [
      "/var/folders/sf/72qw163j6sv68zg_2cx67t_h0000gn/T/ipykernel_4385/3891612246.py:16: DeprecationWarning: executable_path has been deprecated, please pass in a Service object\n",
      "  driver = webdriver.Chrome(\"chromedriver.exe\", options=options)\n"
     ]
    },
    {
     "name": "stdout",
     "output_type": "stream",
     "text": [
      "Haha\n",
      "Haha1\n",
      "haha6\n"
     ]
    },
    {
     "name": "stderr",
     "output_type": "stream",
     "text": [
      "/var/folders/sf/72qw163j6sv68zg_2cx67t_h0000gn/T/ipykernel_4385/3891612246.py:16: DeprecationWarning: executable_path has been deprecated, please pass in a Service object\n",
      "  driver = webdriver.Chrome(\"chromedriver.exe\", options=options)\n"
     ]
    },
    {
     "name": "stdout",
     "output_type": "stream",
     "text": [
      "Haha\n",
      "Haha1\n",
      "haha6\n"
     ]
    },
    {
     "name": "stderr",
     "output_type": "stream",
     "text": [
      "/var/folders/sf/72qw163j6sv68zg_2cx67t_h0000gn/T/ipykernel_4385/3891612246.py:16: DeprecationWarning: executable_path has been deprecated, please pass in a Service object\n",
      "  driver = webdriver.Chrome(\"chromedriver.exe\", options=options)\n"
     ]
    },
    {
     "name": "stdout",
     "output_type": "stream",
     "text": [
      "Haha\n",
      "Haha1\n",
      "haha6\n"
     ]
    },
    {
     "name": "stderr",
     "output_type": "stream",
     "text": [
      "/var/folders/sf/72qw163j6sv68zg_2cx67t_h0000gn/T/ipykernel_4385/3891612246.py:16: DeprecationWarning: executable_path has been deprecated, please pass in a Service object\n",
      "  driver = webdriver.Chrome(\"chromedriver.exe\", options=options)\n"
     ]
    },
    {
     "name": "stdout",
     "output_type": "stream",
     "text": [
      "Haha\n",
      "Haha1\n",
      "haha6\n"
     ]
    },
    {
     "name": "stderr",
     "output_type": "stream",
     "text": [
      "/var/folders/sf/72qw163j6sv68zg_2cx67t_h0000gn/T/ipykernel_4385/3891612246.py:16: DeprecationWarning: executable_path has been deprecated, please pass in a Service object\n",
      "  driver = webdriver.Chrome(\"chromedriver.exe\", options=options)\n"
     ]
    },
    {
     "name": "stdout",
     "output_type": "stream",
     "text": [
      "Haha\n",
      "Haha1\n",
      "haha6\n"
     ]
    },
    {
     "name": "stderr",
     "output_type": "stream",
     "text": [
      "/var/folders/sf/72qw163j6sv68zg_2cx67t_h0000gn/T/ipykernel_4385/3891612246.py:16: DeprecationWarning: executable_path has been deprecated, please pass in a Service object\n",
      "  driver = webdriver.Chrome(\"chromedriver.exe\", options=options)\n"
     ]
    },
    {
     "name": "stdout",
     "output_type": "stream",
     "text": [
      "Haha\n",
      "entereced in except1\n",
      "entered in except2\n",
      "haha6\n"
     ]
    },
    {
     "name": "stderr",
     "output_type": "stream",
     "text": [
      "/var/folders/sf/72qw163j6sv68zg_2cx67t_h0000gn/T/ipykernel_4385/3891612246.py:16: DeprecationWarning: executable_path has been deprecated, please pass in a Service object\n",
      "  driver = webdriver.Chrome(\"chromedriver.exe\", options=options)\n"
     ]
    },
    {
     "name": "stdout",
     "output_type": "stream",
     "text": [
      "Haha\n",
      "Haha1\n",
      "haha6\n"
     ]
    },
    {
     "name": "stderr",
     "output_type": "stream",
     "text": [
      "/var/folders/sf/72qw163j6sv68zg_2cx67t_h0000gn/T/ipykernel_4385/3891612246.py:16: DeprecationWarning: executable_path has been deprecated, please pass in a Service object\n",
      "  driver = webdriver.Chrome(\"chromedriver.exe\", options=options)\n"
     ]
    },
    {
     "name": "stdout",
     "output_type": "stream",
     "text": [
      "Haha\n",
      "Haha1\n",
      "haha6\n"
     ]
    },
    {
     "name": "stderr",
     "output_type": "stream",
     "text": [
      "/var/folders/sf/72qw163j6sv68zg_2cx67t_h0000gn/T/ipykernel_4385/3891612246.py:16: DeprecationWarning: executable_path has been deprecated, please pass in a Service object\n",
      "  driver = webdriver.Chrome(\"chromedriver.exe\", options=options)\n"
     ]
    },
    {
     "name": "stdout",
     "output_type": "stream",
     "text": [
      "Haha\n",
      "Haha1\n",
      "haha6\n"
     ]
    },
    {
     "name": "stderr",
     "output_type": "stream",
     "text": [
      "/var/folders/sf/72qw163j6sv68zg_2cx67t_h0000gn/T/ipykernel_4385/3891612246.py:16: DeprecationWarning: executable_path has been deprecated, please pass in a Service object\n",
      "  driver = webdriver.Chrome(\"chromedriver.exe\", options=options)\n"
     ]
    },
    {
     "name": "stdout",
     "output_type": "stream",
     "text": [
      "Haha\n",
      "Haha1\n",
      "haha6\n"
     ]
    },
    {
     "name": "stderr",
     "output_type": "stream",
     "text": [
      "/var/folders/sf/72qw163j6sv68zg_2cx67t_h0000gn/T/ipykernel_4385/3891612246.py:16: DeprecationWarning: executable_path has been deprecated, please pass in a Service object\n",
      "  driver = webdriver.Chrome(\"chromedriver.exe\", options=options)\n"
     ]
    },
    {
     "name": "stdout",
     "output_type": "stream",
     "text": [
      "Haha\n",
      "Haha1\n",
      "haha6\n"
     ]
    },
    {
     "name": "stderr",
     "output_type": "stream",
     "text": [
      "/var/folders/sf/72qw163j6sv68zg_2cx67t_h0000gn/T/ipykernel_4385/3891612246.py:16: DeprecationWarning: executable_path has been deprecated, please pass in a Service object\n",
      "  driver = webdriver.Chrome(\"chromedriver.exe\", options=options)\n"
     ]
    },
    {
     "name": "stdout",
     "output_type": "stream",
     "text": [
      "Haha\n",
      "Haha1\n",
      "haha6\n"
     ]
    },
    {
     "name": "stderr",
     "output_type": "stream",
     "text": [
      "/var/folders/sf/72qw163j6sv68zg_2cx67t_h0000gn/T/ipykernel_4385/3891612246.py:16: DeprecationWarning: executable_path has been deprecated, please pass in a Service object\n",
      "  driver = webdriver.Chrome(\"chromedriver.exe\", options=options)\n"
     ]
    },
    {
     "name": "stdout",
     "output_type": "stream",
     "text": [
      "Haha\n",
      "Haha1\n",
      "haha6\n"
     ]
    },
    {
     "name": "stderr",
     "output_type": "stream",
     "text": [
      "/var/folders/sf/72qw163j6sv68zg_2cx67t_h0000gn/T/ipykernel_4385/3891612246.py:16: DeprecationWarning: executable_path has been deprecated, please pass in a Service object\n",
      "  driver = webdriver.Chrome(\"chromedriver.exe\", options=options)\n"
     ]
    },
    {
     "name": "stdout",
     "output_type": "stream",
     "text": [
      "Haha\n",
      "Haha1\n",
      "haha6\n"
     ]
    },
    {
     "name": "stderr",
     "output_type": "stream",
     "text": [
      "/var/folders/sf/72qw163j6sv68zg_2cx67t_h0000gn/T/ipykernel_4385/3891612246.py:16: DeprecationWarning: executable_path has been deprecated, please pass in a Service object\n",
      "  driver = webdriver.Chrome(\"chromedriver.exe\", options=options)\n"
     ]
    },
    {
     "name": "stdout",
     "output_type": "stream",
     "text": [
      "Haha\n",
      "Haha1\n",
      "haha6\n"
     ]
    },
    {
     "name": "stderr",
     "output_type": "stream",
     "text": [
      "/var/folders/sf/72qw163j6sv68zg_2cx67t_h0000gn/T/ipykernel_4385/3891612246.py:16: DeprecationWarning: executable_path has been deprecated, please pass in a Service object\n",
      "  driver = webdriver.Chrome(\"chromedriver.exe\", options=options)\n"
     ]
    },
    {
     "name": "stdout",
     "output_type": "stream",
     "text": [
      "Haha\n",
      "Haha1\n",
      "haha6\n"
     ]
    },
    {
     "name": "stderr",
     "output_type": "stream",
     "text": [
      "/var/folders/sf/72qw163j6sv68zg_2cx67t_h0000gn/T/ipykernel_4385/3891612246.py:16: DeprecationWarning: executable_path has been deprecated, please pass in a Service object\n",
      "  driver = webdriver.Chrome(\"chromedriver.exe\", options=options)\n"
     ]
    },
    {
     "name": "stdout",
     "output_type": "stream",
     "text": [
      "Haha\n",
      "entereced in except1\n",
      "Haha3\n",
      "haha6\n"
     ]
    },
    {
     "name": "stderr",
     "output_type": "stream",
     "text": [
      "/var/folders/sf/72qw163j6sv68zg_2cx67t_h0000gn/T/ipykernel_4385/3891612246.py:16: DeprecationWarning: executable_path has been deprecated, please pass in a Service object\n",
      "  driver = webdriver.Chrome(\"chromedriver.exe\", options=options)\n"
     ]
    },
    {
     "name": "stdout",
     "output_type": "stream",
     "text": [
      "Haha\n",
      "Haha1\n",
      "haha6\n"
     ]
    },
    {
     "name": "stderr",
     "output_type": "stream",
     "text": [
      "/var/folders/sf/72qw163j6sv68zg_2cx67t_h0000gn/T/ipykernel_4385/3891612246.py:16: DeprecationWarning: executable_path has been deprecated, please pass in a Service object\n",
      "  driver = webdriver.Chrome(\"chromedriver.exe\", options=options)\n"
     ]
    },
    {
     "name": "stdout",
     "output_type": "stream",
     "text": [
      "Haha\n",
      "Haha1\n",
      "haha6\n"
     ]
    },
    {
     "name": "stderr",
     "output_type": "stream",
     "text": [
      "/var/folders/sf/72qw163j6sv68zg_2cx67t_h0000gn/T/ipykernel_4385/3891612246.py:16: DeprecationWarning: executable_path has been deprecated, please pass in a Service object\n",
      "  driver = webdriver.Chrome(\"chromedriver.exe\", options=options)\n"
     ]
    },
    {
     "name": "stdout",
     "output_type": "stream",
     "text": [
      "Haha\n",
      "Haha1\n",
      "haha6\n"
     ]
    },
    {
     "name": "stderr",
     "output_type": "stream",
     "text": [
      "/var/folders/sf/72qw163j6sv68zg_2cx67t_h0000gn/T/ipykernel_4385/3891612246.py:16: DeprecationWarning: executable_path has been deprecated, please pass in a Service object\n",
      "  driver = webdriver.Chrome(\"chromedriver.exe\", options=options)\n"
     ]
    },
    {
     "name": "stdout",
     "output_type": "stream",
     "text": [
      "Haha\n",
      "entereced in except1\n",
      "entered in except2\n",
      "haha6\n"
     ]
    },
    {
     "name": "stderr",
     "output_type": "stream",
     "text": [
      "/var/folders/sf/72qw163j6sv68zg_2cx67t_h0000gn/T/ipykernel_4385/3891612246.py:16: DeprecationWarning: executable_path has been deprecated, please pass in a Service object\n",
      "  driver = webdriver.Chrome(\"chromedriver.exe\", options=options)\n"
     ]
    },
    {
     "name": "stdout",
     "output_type": "stream",
     "text": [
      "Haha\n",
      "Haha1\n",
      "haha6\n"
     ]
    },
    {
     "name": "stderr",
     "output_type": "stream",
     "text": [
      "/var/folders/sf/72qw163j6sv68zg_2cx67t_h0000gn/T/ipykernel_4385/3891612246.py:16: DeprecationWarning: executable_path has been deprecated, please pass in a Service object\n",
      "  driver = webdriver.Chrome(\"chromedriver.exe\", options=options)\n"
     ]
    },
    {
     "name": "stdout",
     "output_type": "stream",
     "text": [
      "Haha\n",
      "Haha1\n",
      "haha6\n"
     ]
    },
    {
     "name": "stderr",
     "output_type": "stream",
     "text": [
      "/var/folders/sf/72qw163j6sv68zg_2cx67t_h0000gn/T/ipykernel_4385/3891612246.py:16: DeprecationWarning: executable_path has been deprecated, please pass in a Service object\n",
      "  driver = webdriver.Chrome(\"chromedriver.exe\", options=options)\n"
     ]
    },
    {
     "name": "stdout",
     "output_type": "stream",
     "text": [
      "Haha\n",
      "Haha1\n",
      "haha6\n"
     ]
    },
    {
     "name": "stderr",
     "output_type": "stream",
     "text": [
      "/var/folders/sf/72qw163j6sv68zg_2cx67t_h0000gn/T/ipykernel_4385/3891612246.py:16: DeprecationWarning: executable_path has been deprecated, please pass in a Service object\n",
      "  driver = webdriver.Chrome(\"chromedriver.exe\", options=options)\n"
     ]
    },
    {
     "name": "stdout",
     "output_type": "stream",
     "text": [
      "Haha\n",
      "Haha1\n",
      "haha6\n"
     ]
    },
    {
     "name": "stderr",
     "output_type": "stream",
     "text": [
      "/var/folders/sf/72qw163j6sv68zg_2cx67t_h0000gn/T/ipykernel_4385/3891612246.py:16: DeprecationWarning: executable_path has been deprecated, please pass in a Service object\n",
      "  driver = webdriver.Chrome(\"chromedriver.exe\", options=options)\n"
     ]
    },
    {
     "name": "stdout",
     "output_type": "stream",
     "text": [
      "Haha\n",
      "Haha1\n",
      "haha6\n"
     ]
    },
    {
     "name": "stderr",
     "output_type": "stream",
     "text": [
      "/var/folders/sf/72qw163j6sv68zg_2cx67t_h0000gn/T/ipykernel_4385/3891612246.py:16: DeprecationWarning: executable_path has been deprecated, please pass in a Service object\n",
      "  driver = webdriver.Chrome(\"chromedriver.exe\", options=options)\n"
     ]
    },
    {
     "name": "stdout",
     "output_type": "stream",
     "text": [
      "Haha\n",
      "Haha1\n",
      "haha6\n"
     ]
    },
    {
     "name": "stderr",
     "output_type": "stream",
     "text": [
      "/var/folders/sf/72qw163j6sv68zg_2cx67t_h0000gn/T/ipykernel_4385/3891612246.py:16: DeprecationWarning: executable_path has been deprecated, please pass in a Service object\n",
      "  driver = webdriver.Chrome(\"chromedriver.exe\", options=options)\n"
     ]
    },
    {
     "name": "stdout",
     "output_type": "stream",
     "text": [
      "Haha\n",
      "Haha1\n",
      "haha6\n"
     ]
    },
    {
     "name": "stderr",
     "output_type": "stream",
     "text": [
      "/var/folders/sf/72qw163j6sv68zg_2cx67t_h0000gn/T/ipykernel_4385/3891612246.py:16: DeprecationWarning: executable_path has been deprecated, please pass in a Service object\n",
      "  driver = webdriver.Chrome(\"chromedriver.exe\", options=options)\n"
     ]
    },
    {
     "name": "stdout",
     "output_type": "stream",
     "text": [
      "Haha\n",
      "Haha1\n",
      "haha6\n"
     ]
    },
    {
     "name": "stderr",
     "output_type": "stream",
     "text": [
      "/var/folders/sf/72qw163j6sv68zg_2cx67t_h0000gn/T/ipykernel_4385/3891612246.py:16: DeprecationWarning: executable_path has been deprecated, please pass in a Service object\n",
      "  driver = webdriver.Chrome(\"chromedriver.exe\", options=options)\n"
     ]
    },
    {
     "name": "stdout",
     "output_type": "stream",
     "text": [
      "Haha\n",
      "Haha1\n",
      "haha6\n"
     ]
    },
    {
     "name": "stderr",
     "output_type": "stream",
     "text": [
      "/var/folders/sf/72qw163j6sv68zg_2cx67t_h0000gn/T/ipykernel_4385/3891612246.py:16: DeprecationWarning: executable_path has been deprecated, please pass in a Service object\n",
      "  driver = webdriver.Chrome(\"chromedriver.exe\", options=options)\n"
     ]
    },
    {
     "name": "stdout",
     "output_type": "stream",
     "text": [
      "Haha\n",
      "Haha1\n",
      "haha6\n"
     ]
    },
    {
     "name": "stderr",
     "output_type": "stream",
     "text": [
      "/var/folders/sf/72qw163j6sv68zg_2cx67t_h0000gn/T/ipykernel_4385/3891612246.py:16: DeprecationWarning: executable_path has been deprecated, please pass in a Service object\n",
      "  driver = webdriver.Chrome(\"chromedriver.exe\", options=options)\n"
     ]
    },
    {
     "name": "stdout",
     "output_type": "stream",
     "text": [
      "Haha\n",
      "Haha1\n",
      "haha6\n"
     ]
    },
    {
     "name": "stderr",
     "output_type": "stream",
     "text": [
      "/var/folders/sf/72qw163j6sv68zg_2cx67t_h0000gn/T/ipykernel_4385/3891612246.py:16: DeprecationWarning: executable_path has been deprecated, please pass in a Service object\n",
      "  driver = webdriver.Chrome(\"chromedriver.exe\", options=options)\n"
     ]
    },
    {
     "name": "stdout",
     "output_type": "stream",
     "text": [
      "Haha\n",
      "Haha1\n",
      "haha6\n"
     ]
    },
    {
     "name": "stderr",
     "output_type": "stream",
     "text": [
      "/var/folders/sf/72qw163j6sv68zg_2cx67t_h0000gn/T/ipykernel_4385/3891612246.py:16: DeprecationWarning: executable_path has been deprecated, please pass in a Service object\n",
      "  driver = webdriver.Chrome(\"chromedriver.exe\", options=options)\n"
     ]
    },
    {
     "name": "stdout",
     "output_type": "stream",
     "text": [
      "Haha\n",
      "Haha1\n",
      "haha6\n"
     ]
    },
    {
     "name": "stderr",
     "output_type": "stream",
     "text": [
      "/var/folders/sf/72qw163j6sv68zg_2cx67t_h0000gn/T/ipykernel_4385/3891612246.py:16: DeprecationWarning: executable_path has been deprecated, please pass in a Service object\n",
      "  driver = webdriver.Chrome(\"chromedriver.exe\", options=options)\n"
     ]
    },
    {
     "name": "stdout",
     "output_type": "stream",
     "text": [
      "Haha\n",
      "Haha1\n",
      "haha6\n"
     ]
    },
    {
     "name": "stderr",
     "output_type": "stream",
     "text": [
      "/var/folders/sf/72qw163j6sv68zg_2cx67t_h0000gn/T/ipykernel_4385/3891612246.py:16: DeprecationWarning: executable_path has been deprecated, please pass in a Service object\n",
      "  driver = webdriver.Chrome(\"chromedriver.exe\", options=options)\n"
     ]
    },
    {
     "name": "stdout",
     "output_type": "stream",
     "text": [
      "Haha\n",
      "Haha1\n",
      "haha6\n"
     ]
    },
    {
     "name": "stderr",
     "output_type": "stream",
     "text": [
      "/var/folders/sf/72qw163j6sv68zg_2cx67t_h0000gn/T/ipykernel_4385/3891612246.py:16: DeprecationWarning: executable_path has been deprecated, please pass in a Service object\n",
      "  driver = webdriver.Chrome(\"chromedriver.exe\", options=options)\n"
     ]
    },
    {
     "name": "stdout",
     "output_type": "stream",
     "text": [
      "Haha\n",
      "Haha1\n",
      "haha6\n"
     ]
    },
    {
     "name": "stderr",
     "output_type": "stream",
     "text": [
      "/var/folders/sf/72qw163j6sv68zg_2cx67t_h0000gn/T/ipykernel_4385/3891612246.py:16: DeprecationWarning: executable_path has been deprecated, please pass in a Service object\n",
      "  driver = webdriver.Chrome(\"chromedriver.exe\", options=options)\n"
     ]
    },
    {
     "name": "stdout",
     "output_type": "stream",
     "text": [
      "Haha\n",
      "Haha1\n",
      "haha6\n"
     ]
    },
    {
     "name": "stderr",
     "output_type": "stream",
     "text": [
      "/var/folders/sf/72qw163j6sv68zg_2cx67t_h0000gn/T/ipykernel_4385/3891612246.py:16: DeprecationWarning: executable_path has been deprecated, please pass in a Service object\n",
      "  driver = webdriver.Chrome(\"chromedriver.exe\", options=options)\n"
     ]
    },
    {
     "name": "stdout",
     "output_type": "stream",
     "text": [
      "Haha\n",
      "Haha1\n",
      "haha6\n"
     ]
    },
    {
     "name": "stderr",
     "output_type": "stream",
     "text": [
      "/var/folders/sf/72qw163j6sv68zg_2cx67t_h0000gn/T/ipykernel_4385/3891612246.py:16: DeprecationWarning: executable_path has been deprecated, please pass in a Service object\n",
      "  driver = webdriver.Chrome(\"chromedriver.exe\", options=options)\n"
     ]
    },
    {
     "name": "stdout",
     "output_type": "stream",
     "text": [
      "Haha\n",
      "Haha1\n",
      "haha6\n"
     ]
    },
    {
     "name": "stderr",
     "output_type": "stream",
     "text": [
      "/var/folders/sf/72qw163j6sv68zg_2cx67t_h0000gn/T/ipykernel_4385/3891612246.py:16: DeprecationWarning: executable_path has been deprecated, please pass in a Service object\n",
      "  driver = webdriver.Chrome(\"chromedriver.exe\", options=options)\n"
     ]
    },
    {
     "name": "stdout",
     "output_type": "stream",
     "text": [
      "Haha\n",
      "Haha1\n",
      "haha6\n"
     ]
    },
    {
     "name": "stderr",
     "output_type": "stream",
     "text": [
      "/var/folders/sf/72qw163j6sv68zg_2cx67t_h0000gn/T/ipykernel_4385/3891612246.py:16: DeprecationWarning: executable_path has been deprecated, please pass in a Service object\n",
      "  driver = webdriver.Chrome(\"chromedriver.exe\", options=options)\n"
     ]
    },
    {
     "name": "stdout",
     "output_type": "stream",
     "text": [
      "Haha\n",
      "Haha1\n",
      "haha6\n"
     ]
    },
    {
     "name": "stderr",
     "output_type": "stream",
     "text": [
      "/var/folders/sf/72qw163j6sv68zg_2cx67t_h0000gn/T/ipykernel_4385/3891612246.py:16: DeprecationWarning: executable_path has been deprecated, please pass in a Service object\n",
      "  driver = webdriver.Chrome(\"chromedriver.exe\", options=options)\n"
     ]
    },
    {
     "name": "stdout",
     "output_type": "stream",
     "text": [
      "Haha\n",
      "Haha1\n",
      "haha6\n"
     ]
    },
    {
     "name": "stderr",
     "output_type": "stream",
     "text": [
      "/var/folders/sf/72qw163j6sv68zg_2cx67t_h0000gn/T/ipykernel_4385/3891612246.py:16: DeprecationWarning: executable_path has been deprecated, please pass in a Service object\n",
      "  driver = webdriver.Chrome(\"chromedriver.exe\", options=options)\n"
     ]
    },
    {
     "name": "stdout",
     "output_type": "stream",
     "text": [
      "Haha\n",
      "Haha1\n",
      "haha6\n"
     ]
    },
    {
     "name": "stderr",
     "output_type": "stream",
     "text": [
      "/var/folders/sf/72qw163j6sv68zg_2cx67t_h0000gn/T/ipykernel_4385/3891612246.py:16: DeprecationWarning: executable_path has been deprecated, please pass in a Service object\n",
      "  driver = webdriver.Chrome(\"chromedriver.exe\", options=options)\n"
     ]
    },
    {
     "name": "stdout",
     "output_type": "stream",
     "text": [
      "Haha\n",
      "entereced in except1\n",
      "entered in except2\n",
      "haha6\n"
     ]
    },
    {
     "name": "stderr",
     "output_type": "stream",
     "text": [
      "/var/folders/sf/72qw163j6sv68zg_2cx67t_h0000gn/T/ipykernel_4385/3891612246.py:16: DeprecationWarning: executable_path has been deprecated, please pass in a Service object\n",
      "  driver = webdriver.Chrome(\"chromedriver.exe\", options=options)\n"
     ]
    },
    {
     "name": "stdout",
     "output_type": "stream",
     "text": [
      "Haha\n",
      "Haha1\n",
      "haha6\n"
     ]
    },
    {
     "name": "stderr",
     "output_type": "stream",
     "text": [
      "/var/folders/sf/72qw163j6sv68zg_2cx67t_h0000gn/T/ipykernel_4385/3891612246.py:16: DeprecationWarning: executable_path has been deprecated, please pass in a Service object\n",
      "  driver = webdriver.Chrome(\"chromedriver.exe\", options=options)\n"
     ]
    },
    {
     "name": "stdout",
     "output_type": "stream",
     "text": [
      "Haha\n",
      "Haha1\n",
      "haha6\n"
     ]
    },
    {
     "name": "stderr",
     "output_type": "stream",
     "text": [
      "/var/folders/sf/72qw163j6sv68zg_2cx67t_h0000gn/T/ipykernel_4385/3891612246.py:16: DeprecationWarning: executable_path has been deprecated, please pass in a Service object\n",
      "  driver = webdriver.Chrome(\"chromedriver.exe\", options=options)\n"
     ]
    },
    {
     "name": "stdout",
     "output_type": "stream",
     "text": [
      "Haha\n",
      "Haha1\n",
      "haha6\n"
     ]
    },
    {
     "name": "stderr",
     "output_type": "stream",
     "text": [
      "/var/folders/sf/72qw163j6sv68zg_2cx67t_h0000gn/T/ipykernel_4385/3891612246.py:16: DeprecationWarning: executable_path has been deprecated, please pass in a Service object\n",
      "  driver = webdriver.Chrome(\"chromedriver.exe\", options=options)\n"
     ]
    },
    {
     "name": "stdout",
     "output_type": "stream",
     "text": [
      "Haha\n",
      "Haha1\n",
      "haha6\n"
     ]
    },
    {
     "name": "stderr",
     "output_type": "stream",
     "text": [
      "/var/folders/sf/72qw163j6sv68zg_2cx67t_h0000gn/T/ipykernel_4385/3891612246.py:16: DeprecationWarning: executable_path has been deprecated, please pass in a Service object\n",
      "  driver = webdriver.Chrome(\"chromedriver.exe\", options=options)\n"
     ]
    },
    {
     "name": "stdout",
     "output_type": "stream",
     "text": [
      "Haha\n",
      "Haha1\n",
      "haha6\n"
     ]
    },
    {
     "name": "stderr",
     "output_type": "stream",
     "text": [
      "/var/folders/sf/72qw163j6sv68zg_2cx67t_h0000gn/T/ipykernel_4385/3891612246.py:16: DeprecationWarning: executable_path has been deprecated, please pass in a Service object\n",
      "  driver = webdriver.Chrome(\"chromedriver.exe\", options=options)\n"
     ]
    },
    {
     "name": "stdout",
     "output_type": "stream",
     "text": [
      "Haha\n",
      "Haha1\n",
      "haha6\n"
     ]
    },
    {
     "name": "stderr",
     "output_type": "stream",
     "text": [
      "/var/folders/sf/72qw163j6sv68zg_2cx67t_h0000gn/T/ipykernel_4385/3891612246.py:16: DeprecationWarning: executable_path has been deprecated, please pass in a Service object\n",
      "  driver = webdriver.Chrome(\"chromedriver.exe\", options=options)\n"
     ]
    },
    {
     "name": "stdout",
     "output_type": "stream",
     "text": [
      "Haha\n",
      "Haha1\n",
      "haha6\n"
     ]
    },
    {
     "name": "stderr",
     "output_type": "stream",
     "text": [
      "/var/folders/sf/72qw163j6sv68zg_2cx67t_h0000gn/T/ipykernel_4385/3891612246.py:16: DeprecationWarning: executable_path has been deprecated, please pass in a Service object\n",
      "  driver = webdriver.Chrome(\"chromedriver.exe\", options=options)\n"
     ]
    },
    {
     "name": "stdout",
     "output_type": "stream",
     "text": [
      "Haha\n",
      "Haha1\n",
      "haha6\n"
     ]
    },
    {
     "name": "stderr",
     "output_type": "stream",
     "text": [
      "/var/folders/sf/72qw163j6sv68zg_2cx67t_h0000gn/T/ipykernel_4385/3891612246.py:16: DeprecationWarning: executable_path has been deprecated, please pass in a Service object\n",
      "  driver = webdriver.Chrome(\"chromedriver.exe\", options=options)\n"
     ]
    },
    {
     "name": "stdout",
     "output_type": "stream",
     "text": [
      "Haha\n",
      "Haha1\n",
      "haha6\n"
     ]
    },
    {
     "name": "stderr",
     "output_type": "stream",
     "text": [
      "/var/folders/sf/72qw163j6sv68zg_2cx67t_h0000gn/T/ipykernel_4385/3891612246.py:16: DeprecationWarning: executable_path has been deprecated, please pass in a Service object\n",
      "  driver = webdriver.Chrome(\"chromedriver.exe\", options=options)\n"
     ]
    },
    {
     "name": "stdout",
     "output_type": "stream",
     "text": [
      "Haha\n",
      "Haha1\n",
      "haha6\n"
     ]
    },
    {
     "name": "stderr",
     "output_type": "stream",
     "text": [
      "/var/folders/sf/72qw163j6sv68zg_2cx67t_h0000gn/T/ipykernel_4385/3891612246.py:16: DeprecationWarning: executable_path has been deprecated, please pass in a Service object\n",
      "  driver = webdriver.Chrome(\"chromedriver.exe\", options=options)\n"
     ]
    },
    {
     "name": "stdout",
     "output_type": "stream",
     "text": [
      "Haha\n",
      "Haha1\n",
      "haha6\n"
     ]
    },
    {
     "name": "stderr",
     "output_type": "stream",
     "text": [
      "/var/folders/sf/72qw163j6sv68zg_2cx67t_h0000gn/T/ipykernel_4385/3891612246.py:16: DeprecationWarning: executable_path has been deprecated, please pass in a Service object\n",
      "  driver = webdriver.Chrome(\"chromedriver.exe\", options=options)\n"
     ]
    },
    {
     "name": "stdout",
     "output_type": "stream",
     "text": [
      "Haha\n",
      "Haha1\n",
      "haha6\n"
     ]
    },
    {
     "name": "stderr",
     "output_type": "stream",
     "text": [
      "/var/folders/sf/72qw163j6sv68zg_2cx67t_h0000gn/T/ipykernel_4385/3891612246.py:16: DeprecationWarning: executable_path has been deprecated, please pass in a Service object\n",
      "  driver = webdriver.Chrome(\"chromedriver.exe\", options=options)\n"
     ]
    },
    {
     "name": "stdout",
     "output_type": "stream",
     "text": [
      "Haha\n",
      "Haha1\n",
      "haha6\n"
     ]
    },
    {
     "name": "stderr",
     "output_type": "stream",
     "text": [
      "/var/folders/sf/72qw163j6sv68zg_2cx67t_h0000gn/T/ipykernel_4385/3891612246.py:16: DeprecationWarning: executable_path has been deprecated, please pass in a Service object\n",
      "  driver = webdriver.Chrome(\"chromedriver.exe\", options=options)\n"
     ]
    },
    {
     "name": "stdout",
     "output_type": "stream",
     "text": [
      "Haha\n",
      "Haha1\n",
      "haha6\n"
     ]
    },
    {
     "name": "stderr",
     "output_type": "stream",
     "text": [
      "/var/folders/sf/72qw163j6sv68zg_2cx67t_h0000gn/T/ipykernel_4385/3891612246.py:16: DeprecationWarning: executable_path has been deprecated, please pass in a Service object\n",
      "  driver = webdriver.Chrome(\"chromedriver.exe\", options=options)\n"
     ]
    },
    {
     "name": "stdout",
     "output_type": "stream",
     "text": [
      "Haha\n",
      "Haha1\n",
      "haha6\n"
     ]
    },
    {
     "name": "stderr",
     "output_type": "stream",
     "text": [
      "/var/folders/sf/72qw163j6sv68zg_2cx67t_h0000gn/T/ipykernel_4385/3891612246.py:16: DeprecationWarning: executable_path has been deprecated, please pass in a Service object\n",
      "  driver = webdriver.Chrome(\"chromedriver.exe\", options=options)\n"
     ]
    },
    {
     "name": "stdout",
     "output_type": "stream",
     "text": [
      "Haha\n",
      "Haha1\n",
      "haha6\n"
     ]
    },
    {
     "name": "stderr",
     "output_type": "stream",
     "text": [
      "/var/folders/sf/72qw163j6sv68zg_2cx67t_h0000gn/T/ipykernel_4385/3891612246.py:16: DeprecationWarning: executable_path has been deprecated, please pass in a Service object\n",
      "  driver = webdriver.Chrome(\"chromedriver.exe\", options=options)\n"
     ]
    },
    {
     "name": "stdout",
     "output_type": "stream",
     "text": [
      "Haha\n",
      "Haha1\n",
      "haha6\n"
     ]
    },
    {
     "name": "stderr",
     "output_type": "stream",
     "text": [
      "/var/folders/sf/72qw163j6sv68zg_2cx67t_h0000gn/T/ipykernel_4385/3891612246.py:16: DeprecationWarning: executable_path has been deprecated, please pass in a Service object\n",
      "  driver = webdriver.Chrome(\"chromedriver.exe\", options=options)\n"
     ]
    },
    {
     "name": "stdout",
     "output_type": "stream",
     "text": [
      "Haha\n",
      "entereced in except1\n",
      "entered in except2\n",
      "haha6\n"
     ]
    },
    {
     "name": "stderr",
     "output_type": "stream",
     "text": [
      "/var/folders/sf/72qw163j6sv68zg_2cx67t_h0000gn/T/ipykernel_4385/3891612246.py:16: DeprecationWarning: executable_path has been deprecated, please pass in a Service object\n",
      "  driver = webdriver.Chrome(\"chromedriver.exe\", options=options)\n"
     ]
    },
    {
     "name": "stdout",
     "output_type": "stream",
     "text": [
      "Haha\n",
      "Haha1\n",
      "haha6\n"
     ]
    },
    {
     "name": "stderr",
     "output_type": "stream",
     "text": [
      "/var/folders/sf/72qw163j6sv68zg_2cx67t_h0000gn/T/ipykernel_4385/3891612246.py:16: DeprecationWarning: executable_path has been deprecated, please pass in a Service object\n",
      "  driver = webdriver.Chrome(\"chromedriver.exe\", options=options)\n"
     ]
    },
    {
     "name": "stdout",
     "output_type": "stream",
     "text": [
      "Haha\n",
      "Haha1\n",
      "haha6\n"
     ]
    },
    {
     "name": "stderr",
     "output_type": "stream",
     "text": [
      "/var/folders/sf/72qw163j6sv68zg_2cx67t_h0000gn/T/ipykernel_4385/3891612246.py:16: DeprecationWarning: executable_path has been deprecated, please pass in a Service object\n",
      "  driver = webdriver.Chrome(\"chromedriver.exe\", options=options)\n"
     ]
    },
    {
     "name": "stdout",
     "output_type": "stream",
     "text": [
      "Haha\n",
      "entereced in except1\n",
      "entered in except2\n",
      "haha6\n"
     ]
    },
    {
     "name": "stderr",
     "output_type": "stream",
     "text": [
      "/var/folders/sf/72qw163j6sv68zg_2cx67t_h0000gn/T/ipykernel_4385/3891612246.py:16: DeprecationWarning: executable_path has been deprecated, please pass in a Service object\n",
      "  driver = webdriver.Chrome(\"chromedriver.exe\", options=options)\n"
     ]
    },
    {
     "name": "stdout",
     "output_type": "stream",
     "text": [
      "Haha\n",
      "Haha1\n",
      "haha6\n"
     ]
    },
    {
     "name": "stderr",
     "output_type": "stream",
     "text": [
      "/var/folders/sf/72qw163j6sv68zg_2cx67t_h0000gn/T/ipykernel_4385/3891612246.py:16: DeprecationWarning: executable_path has been deprecated, please pass in a Service object\n",
      "  driver = webdriver.Chrome(\"chromedriver.exe\", options=options)\n"
     ]
    },
    {
     "name": "stdout",
     "output_type": "stream",
     "text": [
      "Haha\n",
      "entereced in except1\n",
      "Haha3\n",
      "haha6\n"
     ]
    },
    {
     "name": "stderr",
     "output_type": "stream",
     "text": [
      "/var/folders/sf/72qw163j6sv68zg_2cx67t_h0000gn/T/ipykernel_4385/3891612246.py:16: DeprecationWarning: executable_path has been deprecated, please pass in a Service object\n",
      "  driver = webdriver.Chrome(\"chromedriver.exe\", options=options)\n"
     ]
    },
    {
     "name": "stdout",
     "output_type": "stream",
     "text": [
      "Haha\n",
      "entereced in except1\n",
      "Haha3\n",
      "haha6\n"
     ]
    },
    {
     "name": "stderr",
     "output_type": "stream",
     "text": [
      "/var/folders/sf/72qw163j6sv68zg_2cx67t_h0000gn/T/ipykernel_4385/3891612246.py:16: DeprecationWarning: executable_path has been deprecated, please pass in a Service object\n",
      "  driver = webdriver.Chrome(\"chromedriver.exe\", options=options)\n"
     ]
    },
    {
     "name": "stdout",
     "output_type": "stream",
     "text": [
      "Haha\n",
      "Haha1\n",
      "haha6\n"
     ]
    },
    {
     "name": "stderr",
     "output_type": "stream",
     "text": [
      "/var/folders/sf/72qw163j6sv68zg_2cx67t_h0000gn/T/ipykernel_4385/3891612246.py:16: DeprecationWarning: executable_path has been deprecated, please pass in a Service object\n",
      "  driver = webdriver.Chrome(\"chromedriver.exe\", options=options)\n"
     ]
    },
    {
     "name": "stdout",
     "output_type": "stream",
     "text": [
      "Haha\n",
      "Haha1\n",
      "haha6\n"
     ]
    },
    {
     "name": "stderr",
     "output_type": "stream",
     "text": [
      "/var/folders/sf/72qw163j6sv68zg_2cx67t_h0000gn/T/ipykernel_4385/3891612246.py:16: DeprecationWarning: executable_path has been deprecated, please pass in a Service object\n",
      "  driver = webdriver.Chrome(\"chromedriver.exe\", options=options)\n"
     ]
    },
    {
     "name": "stdout",
     "output_type": "stream",
     "text": [
      "Haha\n",
      "Haha1\n",
      "haha6\n"
     ]
    },
    {
     "name": "stderr",
     "output_type": "stream",
     "text": [
      "/var/folders/sf/72qw163j6sv68zg_2cx67t_h0000gn/T/ipykernel_4385/3891612246.py:16: DeprecationWarning: executable_path has been deprecated, please pass in a Service object\n",
      "  driver = webdriver.Chrome(\"chromedriver.exe\", options=options)\n"
     ]
    },
    {
     "name": "stdout",
     "output_type": "stream",
     "text": [
      "Haha\n",
      "Haha1\n",
      "haha6\n"
     ]
    },
    {
     "name": "stderr",
     "output_type": "stream",
     "text": [
      "/var/folders/sf/72qw163j6sv68zg_2cx67t_h0000gn/T/ipykernel_4385/3891612246.py:16: DeprecationWarning: executable_path has been deprecated, please pass in a Service object\n",
      "  driver = webdriver.Chrome(\"chromedriver.exe\", options=options)\n"
     ]
    },
    {
     "name": "stdout",
     "output_type": "stream",
     "text": [
      "Haha\n",
      "Haha1\n",
      "haha6\n"
     ]
    },
    {
     "name": "stderr",
     "output_type": "stream",
     "text": [
      "/var/folders/sf/72qw163j6sv68zg_2cx67t_h0000gn/T/ipykernel_4385/3891612246.py:16: DeprecationWarning: executable_path has been deprecated, please pass in a Service object\n",
      "  driver = webdriver.Chrome(\"chromedriver.exe\", options=options)\n"
     ]
    },
    {
     "name": "stdout",
     "output_type": "stream",
     "text": [
      "Haha\n",
      "Haha1\n",
      "haha6\n"
     ]
    },
    {
     "name": "stderr",
     "output_type": "stream",
     "text": [
      "/var/folders/sf/72qw163j6sv68zg_2cx67t_h0000gn/T/ipykernel_4385/3891612246.py:16: DeprecationWarning: executable_path has been deprecated, please pass in a Service object\n",
      "  driver = webdriver.Chrome(\"chromedriver.exe\", options=options)\n"
     ]
    },
    {
     "name": "stdout",
     "output_type": "stream",
     "text": [
      "Haha\n",
      "Haha1\n",
      "haha6\n"
     ]
    },
    {
     "name": "stderr",
     "output_type": "stream",
     "text": [
      "/var/folders/sf/72qw163j6sv68zg_2cx67t_h0000gn/T/ipykernel_4385/3891612246.py:16: DeprecationWarning: executable_path has been deprecated, please pass in a Service object\n",
      "  driver = webdriver.Chrome(\"chromedriver.exe\", options=options)\n"
     ]
    },
    {
     "name": "stdout",
     "output_type": "stream",
     "text": [
      "Haha\n",
      "Haha1\n",
      "haha6\n"
     ]
    },
    {
     "name": "stderr",
     "output_type": "stream",
     "text": [
      "/var/folders/sf/72qw163j6sv68zg_2cx67t_h0000gn/T/ipykernel_4385/3891612246.py:16: DeprecationWarning: executable_path has been deprecated, please pass in a Service object\n",
      "  driver = webdriver.Chrome(\"chromedriver.exe\", options=options)\n"
     ]
    },
    {
     "name": "stdout",
     "output_type": "stream",
     "text": [
      "Haha\n",
      "Haha1\n",
      "haha6\n"
     ]
    },
    {
     "name": "stderr",
     "output_type": "stream",
     "text": [
      "/var/folders/sf/72qw163j6sv68zg_2cx67t_h0000gn/T/ipykernel_4385/3891612246.py:16: DeprecationWarning: executable_path has been deprecated, please pass in a Service object\n",
      "  driver = webdriver.Chrome(\"chromedriver.exe\", options=options)\n"
     ]
    },
    {
     "name": "stdout",
     "output_type": "stream",
     "text": [
      "Haha\n",
      "Haha1\n",
      "haha6\n"
     ]
    },
    {
     "name": "stderr",
     "output_type": "stream",
     "text": [
      "/var/folders/sf/72qw163j6sv68zg_2cx67t_h0000gn/T/ipykernel_4385/3891612246.py:16: DeprecationWarning: executable_path has been deprecated, please pass in a Service object\n",
      "  driver = webdriver.Chrome(\"chromedriver.exe\", options=options)\n"
     ]
    },
    {
     "name": "stdout",
     "output_type": "stream",
     "text": [
      "Haha\n",
      "Haha1\n",
      "haha6\n"
     ]
    },
    {
     "name": "stderr",
     "output_type": "stream",
     "text": [
      "/var/folders/sf/72qw163j6sv68zg_2cx67t_h0000gn/T/ipykernel_4385/3891612246.py:16: DeprecationWarning: executable_path has been deprecated, please pass in a Service object\n",
      "  driver = webdriver.Chrome(\"chromedriver.exe\", options=options)\n"
     ]
    },
    {
     "name": "stdout",
     "output_type": "stream",
     "text": [
      "Haha\n",
      "Haha1\n",
      "haha6\n"
     ]
    },
    {
     "name": "stderr",
     "output_type": "stream",
     "text": [
      "/var/folders/sf/72qw163j6sv68zg_2cx67t_h0000gn/T/ipykernel_4385/3891612246.py:16: DeprecationWarning: executable_path has been deprecated, please pass in a Service object\n",
      "  driver = webdriver.Chrome(\"chromedriver.exe\", options=options)\n"
     ]
    },
    {
     "name": "stdout",
     "output_type": "stream",
     "text": [
      "Haha\n",
      "Haha1\n",
      "haha6\n"
     ]
    },
    {
     "name": "stderr",
     "output_type": "stream",
     "text": [
      "/var/folders/sf/72qw163j6sv68zg_2cx67t_h0000gn/T/ipykernel_4385/3891612246.py:16: DeprecationWarning: executable_path has been deprecated, please pass in a Service object\n",
      "  driver = webdriver.Chrome(\"chromedriver.exe\", options=options)\n"
     ]
    },
    {
     "name": "stdout",
     "output_type": "stream",
     "text": [
      "Haha\n",
      "Haha1\n",
      "haha6\n"
     ]
    },
    {
     "name": "stderr",
     "output_type": "stream",
     "text": [
      "/var/folders/sf/72qw163j6sv68zg_2cx67t_h0000gn/T/ipykernel_4385/3891612246.py:16: DeprecationWarning: executable_path has been deprecated, please pass in a Service object\n",
      "  driver = webdriver.Chrome(\"chromedriver.exe\", options=options)\n"
     ]
    },
    {
     "name": "stdout",
     "output_type": "stream",
     "text": [
      "Haha\n",
      "entereced in except1\n",
      "Haha3\n",
      "haha6\n"
     ]
    },
    {
     "name": "stderr",
     "output_type": "stream",
     "text": [
      "/var/folders/sf/72qw163j6sv68zg_2cx67t_h0000gn/T/ipykernel_4385/3891612246.py:16: DeprecationWarning: executable_path has been deprecated, please pass in a Service object\n",
      "  driver = webdriver.Chrome(\"chromedriver.exe\", options=options)\n"
     ]
    },
    {
     "name": "stdout",
     "output_type": "stream",
     "text": [
      "Haha\n",
      "Haha1\n",
      "haha6\n"
     ]
    },
    {
     "name": "stderr",
     "output_type": "stream",
     "text": [
      "/var/folders/sf/72qw163j6sv68zg_2cx67t_h0000gn/T/ipykernel_4385/3891612246.py:16: DeprecationWarning: executable_path has been deprecated, please pass in a Service object\n",
      "  driver = webdriver.Chrome(\"chromedriver.exe\", options=options)\n"
     ]
    },
    {
     "name": "stdout",
     "output_type": "stream",
     "text": [
      "Haha\n",
      "entereced in except1\n",
      "Haha3\n",
      "haha6\n"
     ]
    },
    {
     "name": "stderr",
     "output_type": "stream",
     "text": [
      "/var/folders/sf/72qw163j6sv68zg_2cx67t_h0000gn/T/ipykernel_4385/3891612246.py:16: DeprecationWarning: executable_path has been deprecated, please pass in a Service object\n",
      "  driver = webdriver.Chrome(\"chromedriver.exe\", options=options)\n"
     ]
    },
    {
     "name": "stdout",
     "output_type": "stream",
     "text": [
      "Haha\n",
      "Haha1\n",
      "haha6\n"
     ]
    },
    {
     "name": "stderr",
     "output_type": "stream",
     "text": [
      "/var/folders/sf/72qw163j6sv68zg_2cx67t_h0000gn/T/ipykernel_4385/3891612246.py:16: DeprecationWarning: executable_path has been deprecated, please pass in a Service object\n",
      "  driver = webdriver.Chrome(\"chromedriver.exe\", options=options)\n"
     ]
    },
    {
     "name": "stdout",
     "output_type": "stream",
     "text": [
      "Haha\n",
      "Haha1\n",
      "haha6\n"
     ]
    },
    {
     "name": "stderr",
     "output_type": "stream",
     "text": [
      "/var/folders/sf/72qw163j6sv68zg_2cx67t_h0000gn/T/ipykernel_4385/3891612246.py:16: DeprecationWarning: executable_path has been deprecated, please pass in a Service object\n",
      "  driver = webdriver.Chrome(\"chromedriver.exe\", options=options)\n"
     ]
    },
    {
     "name": "stdout",
     "output_type": "stream",
     "text": [
      "Haha\n",
      "Haha1\n",
      "haha6\n"
     ]
    },
    {
     "name": "stderr",
     "output_type": "stream",
     "text": [
      "/var/folders/sf/72qw163j6sv68zg_2cx67t_h0000gn/T/ipykernel_4385/3891612246.py:16: DeprecationWarning: executable_path has been deprecated, please pass in a Service object\n",
      "  driver = webdriver.Chrome(\"chromedriver.exe\", options=options)\n"
     ]
    },
    {
     "name": "stdout",
     "output_type": "stream",
     "text": [
      "Haha\n",
      "Haha1\n",
      "haha6\n"
     ]
    },
    {
     "name": "stderr",
     "output_type": "stream",
     "text": [
      "/var/folders/sf/72qw163j6sv68zg_2cx67t_h0000gn/T/ipykernel_4385/3891612246.py:16: DeprecationWarning: executable_path has been deprecated, please pass in a Service object\n",
      "  driver = webdriver.Chrome(\"chromedriver.exe\", options=options)\n"
     ]
    },
    {
     "name": "stdout",
     "output_type": "stream",
     "text": [
      "Haha\n",
      "Haha1\n",
      "haha6\n"
     ]
    },
    {
     "name": "stderr",
     "output_type": "stream",
     "text": [
      "/var/folders/sf/72qw163j6sv68zg_2cx67t_h0000gn/T/ipykernel_4385/3891612246.py:16: DeprecationWarning: executable_path has been deprecated, please pass in a Service object\n",
      "  driver = webdriver.Chrome(\"chromedriver.exe\", options=options)\n"
     ]
    },
    {
     "name": "stdout",
     "output_type": "stream",
     "text": [
      "Haha\n",
      "Haha1\n",
      "haha6\n"
     ]
    },
    {
     "name": "stderr",
     "output_type": "stream",
     "text": [
      "/var/folders/sf/72qw163j6sv68zg_2cx67t_h0000gn/T/ipykernel_4385/3891612246.py:16: DeprecationWarning: executable_path has been deprecated, please pass in a Service object\n",
      "  driver = webdriver.Chrome(\"chromedriver.exe\", options=options)\n"
     ]
    },
    {
     "name": "stdout",
     "output_type": "stream",
     "text": [
      "Haha\n",
      "Haha1\n",
      "haha6\n"
     ]
    },
    {
     "name": "stderr",
     "output_type": "stream",
     "text": [
      "/var/folders/sf/72qw163j6sv68zg_2cx67t_h0000gn/T/ipykernel_4385/3891612246.py:16: DeprecationWarning: executable_path has been deprecated, please pass in a Service object\n",
      "  driver = webdriver.Chrome(\"chromedriver.exe\", options=options)\n"
     ]
    },
    {
     "name": "stdout",
     "output_type": "stream",
     "text": [
      "Haha\n",
      "entereced in except1\n",
      "entered in except2\n",
      "haha6\n"
     ]
    },
    {
     "name": "stderr",
     "output_type": "stream",
     "text": [
      "/var/folders/sf/72qw163j6sv68zg_2cx67t_h0000gn/T/ipykernel_4385/3891612246.py:16: DeprecationWarning: executable_path has been deprecated, please pass in a Service object\n",
      "  driver = webdriver.Chrome(\"chromedriver.exe\", options=options)\n"
     ]
    },
    {
     "name": "stdout",
     "output_type": "stream",
     "text": [
      "Haha\n",
      "Haha1\n",
      "haha6\n"
     ]
    },
    {
     "name": "stderr",
     "output_type": "stream",
     "text": [
      "/var/folders/sf/72qw163j6sv68zg_2cx67t_h0000gn/T/ipykernel_4385/3891612246.py:16: DeprecationWarning: executable_path has been deprecated, please pass in a Service object\n",
      "  driver = webdriver.Chrome(\"chromedriver.exe\", options=options)\n"
     ]
    },
    {
     "ename": "ElementNotInteractableException",
     "evalue": "Message: element not interactable\n  (Session info: chrome=109.0.5414.87)\nStacktrace:\n0   chromedriver                        0x00000001033d1fa8 chromedriver + 4886440\n1   chromedriver                        0x000000010334f643 chromedriver + 4351555\n2   chromedriver                        0x0000000102f9d99d chromedriver + 477597\n3   chromedriver                        0x0000000102fda8dc chromedriver + 727260\n4   chromedriver                        0x0000000102fd9f46 chromedriver + 724806\n5   chromedriver                        0x00000001030085d2 chromedriver + 914898\n6   chromedriver                        0x0000000102fd43dd chromedriver + 701405\n7   chromedriver                        0x000000010300878e chromedriver + 915342\n8   chromedriver                        0x00000001030235fe chromedriver + 1025534\n9   chromedriver                        0x00000001030083a3 chromedriver + 914339\n10  chromedriver                        0x0000000102fd257f chromedriver + 693631\n11  chromedriver                        0x0000000102fd3b1e chromedriver + 699166\n12  chromedriver                        0x000000010339eb9e chromedriver + 4676510\n13  chromedriver                        0x00000001033a391e chromedriver + 4696350\n14  chromedriver                        0x00000001033ab19f chromedriver + 4727199\n15  chromedriver                        0x00000001033a481a chromedriver + 4700186\n16  chromedriver                        0x0000000103377a62 chromedriver + 4516450\n17  chromedriver                        0x00000001033c38c8 chromedriver + 4827336\n18  chromedriver                        0x00000001033c3a45 chromedriver + 4827717\n19  chromedriver                        0x00000001033d97ef chromedriver + 4917231\n20  libsystem_pthread.dylib             0x00007ff813aaa4f4 _pthread_start + 125\n21  libsystem_pthread.dylib             0x00007ff813aa600f thread_start + 15\n",
     "output_type": "error",
     "traceback": [
      "\u001b[0;31m---------------------------------------------------------------------------\u001b[0m",
      "\u001b[0;31mElementNotInteractableException\u001b[0m           Traceback (most recent call last)",
      "Input \u001b[0;32mIn [51]\u001b[0m, in \u001b[0;36m<cell line: 15>\u001b[0;34m()\u001b[0m\n\u001b[1;32m     21\u001b[0m box \u001b[38;5;241m=\u001b[39m driver\u001b[38;5;241m.\u001b[39mfind_element(\u001b[38;5;124m\"\u001b[39m\u001b[38;5;124mxpath\u001b[39m\u001b[38;5;124m\"\u001b[39m,\u001b[38;5;124m'\u001b[39m\u001b[38;5;124m/html/body/div[1]/div/div/div/div[1]/div/input\u001b[39m\u001b[38;5;124m'\u001b[39m)\n\u001b[1;32m     23\u001b[0m box\u001b[38;5;241m.\u001b[39msend_keys(women_300[i])\n\u001b[0;32m---> 24\u001b[0m \u001b[43mbox\u001b[49m\u001b[38;5;241;43m.\u001b[39;49m\u001b[43msend_keys\u001b[49m\u001b[43m(\u001b[49m\u001b[43mKeys\u001b[49m\u001b[38;5;241;43m.\u001b[39;49m\u001b[43mRETURN\u001b[49m\u001b[43m)\u001b[49m\n\u001b[1;32m     25\u001b[0m time\u001b[38;5;241m.\u001b[39msleep(\u001b[38;5;241m10\u001b[39m)\n\u001b[1;32m     26\u001b[0m \u001b[38;5;28mprint\u001b[39m(\u001b[38;5;124m\"\u001b[39m\u001b[38;5;124mHaha\u001b[39m\u001b[38;5;124m\"\u001b[39m)\n",
      "File \u001b[0;32m~/opt/anaconda3/lib/python3.9/site-packages/selenium/webdriver/remote/webelement.py:233\u001b[0m, in \u001b[0;36mWebElement.send_keys\u001b[0;34m(self, *value)\u001b[0m\n\u001b[1;32m    230\u001b[0m             remote_files\u001b[38;5;241m.\u001b[39mappend(\u001b[38;5;28mself\u001b[39m\u001b[38;5;241m.\u001b[39m_upload(file))\n\u001b[1;32m    231\u001b[0m         value \u001b[38;5;241m=\u001b[39m \u001b[38;5;124m\"\u001b[39m\u001b[38;5;130;01m\\n\u001b[39;00m\u001b[38;5;124m\"\u001b[39m\u001b[38;5;241m.\u001b[39mjoin(remote_files)\n\u001b[0;32m--> 233\u001b[0m \u001b[38;5;28;43mself\u001b[39;49m\u001b[38;5;241;43m.\u001b[39;49m\u001b[43m_execute\u001b[49m\u001b[43m(\u001b[49m\n\u001b[1;32m    234\u001b[0m \u001b[43m    \u001b[49m\u001b[43mCommand\u001b[49m\u001b[38;5;241;43m.\u001b[39;49m\u001b[43mSEND_KEYS_TO_ELEMENT\u001b[49m\u001b[43m,\u001b[49m\u001b[43m \u001b[49m\u001b[43m{\u001b[49m\u001b[38;5;124;43m\"\u001b[39;49m\u001b[38;5;124;43mtext\u001b[39;49m\u001b[38;5;124;43m\"\u001b[39;49m\u001b[43m:\u001b[49m\u001b[43m \u001b[49m\u001b[38;5;124;43m\"\u001b[39;49m\u001b[38;5;124;43m\"\u001b[39;49m\u001b[38;5;241;43m.\u001b[39;49m\u001b[43mjoin\u001b[49m\u001b[43m(\u001b[49m\u001b[43mkeys_to_typing\u001b[49m\u001b[43m(\u001b[49m\u001b[43mvalue\u001b[49m\u001b[43m)\u001b[49m\u001b[43m)\u001b[49m\u001b[43m,\u001b[49m\u001b[43m \u001b[49m\u001b[38;5;124;43m\"\u001b[39;49m\u001b[38;5;124;43mvalue\u001b[39;49m\u001b[38;5;124;43m\"\u001b[39;49m\u001b[43m:\u001b[49m\u001b[43m \u001b[49m\u001b[43mkeys_to_typing\u001b[49m\u001b[43m(\u001b[49m\u001b[43mvalue\u001b[49m\u001b[43m)\u001b[49m\u001b[43m}\u001b[49m\n\u001b[1;32m    235\u001b[0m \u001b[43m\u001b[49m\u001b[43m)\u001b[49m\n",
      "File \u001b[0;32m~/opt/anaconda3/lib/python3.9/site-packages/selenium/webdriver/remote/webelement.py:410\u001b[0m, in \u001b[0;36mWebElement._execute\u001b[0;34m(self, command, params)\u001b[0m\n\u001b[1;32m    408\u001b[0m     params \u001b[38;5;241m=\u001b[39m {}\n\u001b[1;32m    409\u001b[0m params[\u001b[38;5;124m\"\u001b[39m\u001b[38;5;124mid\u001b[39m\u001b[38;5;124m\"\u001b[39m] \u001b[38;5;241m=\u001b[39m \u001b[38;5;28mself\u001b[39m\u001b[38;5;241m.\u001b[39m_id\n\u001b[0;32m--> 410\u001b[0m \u001b[38;5;28;01mreturn\u001b[39;00m \u001b[38;5;28;43mself\u001b[39;49m\u001b[38;5;241;43m.\u001b[39;49m\u001b[43m_parent\u001b[49m\u001b[38;5;241;43m.\u001b[39;49m\u001b[43mexecute\u001b[49m\u001b[43m(\u001b[49m\u001b[43mcommand\u001b[49m\u001b[43m,\u001b[49m\u001b[43m \u001b[49m\u001b[43mparams\u001b[49m\u001b[43m)\u001b[49m\n",
      "File \u001b[0;32m~/opt/anaconda3/lib/python3.9/site-packages/selenium/webdriver/remote/webdriver.py:444\u001b[0m, in \u001b[0;36mWebDriver.execute\u001b[0;34m(self, driver_command, params)\u001b[0m\n\u001b[1;32m    442\u001b[0m response \u001b[38;5;241m=\u001b[39m \u001b[38;5;28mself\u001b[39m\u001b[38;5;241m.\u001b[39mcommand_executor\u001b[38;5;241m.\u001b[39mexecute(driver_command, params)\n\u001b[1;32m    443\u001b[0m \u001b[38;5;28;01mif\u001b[39;00m response:\n\u001b[0;32m--> 444\u001b[0m     \u001b[38;5;28;43mself\u001b[39;49m\u001b[38;5;241;43m.\u001b[39;49m\u001b[43merror_handler\u001b[49m\u001b[38;5;241;43m.\u001b[39;49m\u001b[43mcheck_response\u001b[49m\u001b[43m(\u001b[49m\u001b[43mresponse\u001b[49m\u001b[43m)\u001b[49m\n\u001b[1;32m    445\u001b[0m     response[\u001b[38;5;124m\"\u001b[39m\u001b[38;5;124mvalue\u001b[39m\u001b[38;5;124m\"\u001b[39m] \u001b[38;5;241m=\u001b[39m \u001b[38;5;28mself\u001b[39m\u001b[38;5;241m.\u001b[39m_unwrap_value(response\u001b[38;5;241m.\u001b[39mget(\u001b[38;5;124m\"\u001b[39m\u001b[38;5;124mvalue\u001b[39m\u001b[38;5;124m\"\u001b[39m, \u001b[38;5;28;01mNone\u001b[39;00m))\n\u001b[1;32m    446\u001b[0m     \u001b[38;5;28;01mreturn\u001b[39;00m response\n",
      "File \u001b[0;32m~/opt/anaconda3/lib/python3.9/site-packages/selenium/webdriver/remote/errorhandler.py:249\u001b[0m, in \u001b[0;36mErrorHandler.check_response\u001b[0;34m(self, response)\u001b[0m\n\u001b[1;32m    247\u001b[0m         alert_text \u001b[38;5;241m=\u001b[39m value[\u001b[38;5;124m\"\u001b[39m\u001b[38;5;124malert\u001b[39m\u001b[38;5;124m\"\u001b[39m]\u001b[38;5;241m.\u001b[39mget(\u001b[38;5;124m\"\u001b[39m\u001b[38;5;124mtext\u001b[39m\u001b[38;5;124m\"\u001b[39m)\n\u001b[1;32m    248\u001b[0m     \u001b[38;5;28;01mraise\u001b[39;00m exception_class(message, screen, stacktrace, alert_text)  \u001b[38;5;66;03m# type: ignore[call-arg]  # mypy is not smart enough here\u001b[39;00m\n\u001b[0;32m--> 249\u001b[0m \u001b[38;5;28;01mraise\u001b[39;00m exception_class(message, screen, stacktrace)\n",
      "\u001b[0;31mElementNotInteractableException\u001b[0m: Message: element not interactable\n  (Session info: chrome=109.0.5414.87)\nStacktrace:\n0   chromedriver                        0x00000001033d1fa8 chromedriver + 4886440\n1   chromedriver                        0x000000010334f643 chromedriver + 4351555\n2   chromedriver                        0x0000000102f9d99d chromedriver + 477597\n3   chromedriver                        0x0000000102fda8dc chromedriver + 727260\n4   chromedriver                        0x0000000102fd9f46 chromedriver + 724806\n5   chromedriver                        0x00000001030085d2 chromedriver + 914898\n6   chromedriver                        0x0000000102fd43dd chromedriver + 701405\n7   chromedriver                        0x000000010300878e chromedriver + 915342\n8   chromedriver                        0x00000001030235fe chromedriver + 1025534\n9   chromedriver                        0x00000001030083a3 chromedriver + 914339\n10  chromedriver                        0x0000000102fd257f chromedriver + 693631\n11  chromedriver                        0x0000000102fd3b1e chromedriver + 699166\n12  chromedriver                        0x000000010339eb9e chromedriver + 4676510\n13  chromedriver                        0x00000001033a391e chromedriver + 4696350\n14  chromedriver                        0x00000001033ab19f chromedriver + 4727199\n15  chromedriver                        0x00000001033a481a chromedriver + 4700186\n16  chromedriver                        0x0000000103377a62 chromedriver + 4516450\n17  chromedriver                        0x00000001033c38c8 chromedriver + 4827336\n18  chromedriver                        0x00000001033c3a45 chromedriver + 4827717\n19  chromedriver                        0x00000001033d97ef chromedriver + 4917231\n20  libsystem_pthread.dylib             0x00007ff813aaa4f4 _pthread_start + 125\n21  libsystem_pthread.dylib             0x00007ff813aa600f thread_start + 15\n"
     ]
    }
   ],
   "source": [
    "open_dorse_name=[]\n",
    "name_similarity_score=[]\n",
    "og_name=[]\n",
    "options = webdriver.ChromeOptions()\n",
    "options.add_argument('--ignore-certificate-errors')\n",
    "#options.add_argument('--incognito')\n",
    "#options.add_argument('--headless')\n",
    "driver = webdriver.Chrome(\"chromedriver.exe\", options=options)\n",
    "wait = WebDriverWait(driver, 15)\n",
    "\n",
    "\n",
    "#womens search\n",
    "timeout = 10\n",
    "\n",
    "for i in range(0,100):\n",
    "    driver = webdriver.Chrome(\"chromedriver.exe\", options=options)\n",
    "    driver.get(\"https://opendorse.com\")\n",
    "    time.sleep(2)\n",
    "    try:\n",
    "        #wait.until(EC.presence_of_element_located((By.XPATH, '/html/body/div[1]/div/div/div/div[1]/div/input')))\n",
    "        box = driver.find_element(\"xpath\",'/html/body/div[1]/div/div/div/div[1]/div/input')\n",
    "\n",
    "        box.send_keys(women_300[i])\n",
    "        box.send_keys(Keys.RETURN)\n",
    "        time.sleep(10)\n",
    "        print(\"Haha\")\n",
    "        try:\n",
    "            element_present = EC.presence_of_element_located((By.XPATH, '/html/body/div[1]/main/div/div[3]/div/a[1]/div/div[2]/p[1]'))\n",
    "            WebDriverWait(driver, timeout).until(element_present)\n",
    "            name=str(driver.find_element(\"xpath\",'/html/body/div[1]/main/div/div[3]/div/a[1]/div/div[2]/p[1]').text)\n",
    "            print(\"Haha1\")\n",
    "            \n",
    "        except TimeoutException:\n",
    "            print(\"entereced in except1\")\n",
    "\n",
    "            try:\n",
    "                element_present = EC.presence_of_element_located((By.XPATH, '/html/body/div[1]/main/div/div[5]/div/a[1]/div/div[2]/p[1]'))\n",
    "                WebDriverWait(driver, timeout).until(element_present)\n",
    "                name=str(driver.find_element(\"xpath\",'/html/body/div[1]/main/div/div[5]/div/a[1]/div/div[2]/p[1]').text)\n",
    "                print(\"Haha3\")\n",
    "            except TimeoutException:\n",
    "                name=\"Name not found\"\n",
    "                print(\"entered in except2\")\n",
    "\n",
    "        \n",
    "    except TimeoutException:\n",
    "        name=\"Name not found\"\n",
    "        print(\"entered in except3\")\n",
    "\n",
    "\n",
    "    print('haha6')\n",
    "    og_name.append(str(women_300[i]))\n",
    "    open_dorse_name.append(name)\n",
    "    name_similarity_score.append(similar(name,women_300[i]))\n",
    "    driver.close()\n",
    "\n",
    "\n",
    "women_search = {'given_name':og_name,'opendorse_name':open_dorse_name,'name_similarity_score':name_similarity_score}\n",
    "women_search_df= pd.DataFrame(women_search)\n"
   ]
  },
  {
   "cell_type": "code",
   "execution_count": 53,
   "id": "3bed9df7",
   "metadata": {},
   "outputs": [
    {
     "data": {
      "text/plain": [
       "97"
      ]
     },
     "execution_count": 53,
     "metadata": {},
     "output_type": "execute_result"
    }
   ],
   "source": [
    "len(open_dorse_name)\n"
   ]
  },
  {
   "cell_type": "code",
   "execution_count": 54,
   "id": "d9045b0b",
   "metadata": {},
   "outputs": [
    {
     "data": {
      "text/plain": [
       "['Deborah Aboagaye',\n",
       " 'Madeleine Adams',\n",
       " 'Autumn Agar',\n",
       " 'Carly Ahlstrom',\n",
       " 'Megan Ahlstrom',\n",
       " 'Inga Aleksaite',\n",
       " 'Jolesha Allen-Brown',\n",
       " 'Djamila Amidou Triquet',\n",
       " 'Kaylee Anagnostopoulos',\n",
       " 'Rayna Anderson',\n",
       " 'Maude Archambault',\n",
       " 'Chelsea Arruda',\n",
       " 'Aleah Ashlee',\n",
       " 'Carrie-Ann Auger',\n",
       " 'Claire Ayotte',\n",
       " 'Sarai Bailey',\n",
       " 'Jane Baird',\n",
       " 'Marija Bakoc',\n",
       " 'Marlee Ball',\n",
       " 'Madison Bardoel',\n",
       " 'Deidre Bartlett',\n",
       " 'Lauren Bartlett',\n",
       " 'Mikitshi Basambombo',\n",
       " 'Katie Bastedo',\n",
       " 'Avery Bathe-Minard',\n",
       " 'Reese Baxendale',\n",
       " 'Elizabeth Beals-Iseyemi',\n",
       " 'Frederique Beauchamp',\n",
       " 'Lucina Beaumont',\n",
       " 'Burke Bechard',\n",
       " 'Sadie Beers',\n",
       " 'Isabella Belvedere',\n",
       " 'Sarah Bennett',\n",
       " 'Joy-Celine Bermillo',\n",
       " 'Marie Berrouette',\n",
       " 'Logan Biccum',\n",
       " 'Jama Bin-Edward',\n",
       " 'Devisha Binns',\n",
       " 'Clara Blachier',\n",
       " 'Bailey Black',\n",
       " 'Maria Blanco Belver',\n",
       " 'Jordan Blaskin',\n",
       " 'Tyra Blizzard',\n",
       " 'Veronique Boivin',\n",
       " 'Marley Bonnick',\n",
       " 'Kacie Bosch',\n",
       " 'Tatjana Boskovic',\n",
       " 'Robyn Boulanger',\n",
       " 'Isabelle Bourque',\n",
       " 'Talia Boutilier',\n",
       " 'Teanna Bradshaw',\n",
       " 'Emily Braun',\n",
       " 'Keziah Brothers',\n",
       " 'Janaya Brown',\n",
       " 'Kariya Bruised Head',\n",
       " 'Alessio Brutto',\n",
       " 'Nicole Budd',\n",
       " 'Vanessa Budimunda',\n",
       " 'Dorcas Buisa',\n",
       " 'Areej Burgonio',\n",
       " 'Tatyanna Burke',\n",
       " 'Tessa Burton',\n",
       " 'Christina Buttenham',\n",
       " 'Jenna Button',\n",
       " 'Natacha Bwabwa',\n",
       " 'Geraldine Cabillo-Abante',\n",
       " 'Nikki Cabuco',\n",
       " 'Sarsha Cadle',\n",
       " 'Monique Calliste',\n",
       " 'Angeline Campbell',\n",
       " 'Harriet Carey',\n",
       " 'Alyssa Carin',\n",
       " 'Cevanna Carlson',\n",
       " 'Leilani Carney',\n",
       " 'Khaleann Caron-Goudreau',\n",
       " 'Alyssa Cerino',\n",
       " 'Hannah Chadwick',\n",
       " 'Julia Chadwick',\n",
       " 'Madison Chamberlin',\n",
       " 'Marie-Pier Champagne',\n",
       " 'Meagan Charbonneau',\n",
       " 'Annabelle Charron',\n",
       " 'Kennedy Chisholm',\n",
       " 'Taylor Claggett',\n",
       " 'Kayah Clarke',\n",
       " 'Charlotte Clayton',\n",
       " 'Taite Cleland',\n",
       " 'Charlotte Clifford',\n",
       " 'Rachel Clouatre-Trudeau',\n",
       " 'Melanie Cloutier',\n",
       " 'Jada Codrington',\n",
       " 'Bobbi-Jo Colburn',\n",
       " 'Ashley Collins',\n",
       " 'Katrina Collins-Samuels',\n",
       " 'Maddy Colpitts',\n",
       " 'Azaliah Colquhoun',\n",
       " 'Jill Condron']"
      ]
     },
     "execution_count": 54,
     "metadata": {},
     "output_type": "execute_result"
    }
   ],
   "source": [
    "og_name"
   ]
  },
  {
   "cell_type": "code",
   "execution_count": 55,
   "id": "46f51db2",
   "metadata": {},
   "outputs": [
    {
     "data": {
      "text/plain": [
       "[0.6896551724137931,\n",
       " 0.5,\n",
       " 0.7272727272727273,\n",
       " 0.6153846153846154,\n",
       " 0.5384615384615384,\n",
       " 0.42857142857142855,\n",
       " 0.3448275862068966,\n",
       " 0.2777777777777778,\n",
       " 0.5,\n",
       " 1.0,\n",
       " 0.8235294117647058,\n",
       " 0.6428571428571429,\n",
       " 0.5217391304347826,\n",
       " 0.5,\n",
       " 0.56,\n",
       " 0.5,\n",
       " 0.5217391304347826,\n",
       " 0.6666666666666666,\n",
       " 0.6363636363636364,\n",
       " 0.6,\n",
       " 0.7586206896551724,\n",
       " 0.6153846153846154,\n",
       " 0.24242424242424243,\n",
       " 0.6666666666666666,\n",
       " 0.5517241379310345,\n",
       " 0.5714285714285714,\n",
       " 0.6153846153846154,\n",
       " 0.6666666666666666,\n",
       " 0.26666666666666666,\n",
       " 0.4166666666666667,\n",
       " 0.5833333333333334,\n",
       " 0.6666666666666666,\n",
       " 0.6666666666666666,\n",
       " 0.30303030303030304,\n",
       " 0.5925925925925926,\n",
       " 0.5185185185185185,\n",
       " 0.46153846153846156,\n",
       " 0.6923076923076923,\n",
       " 0.5517241379310345,\n",
       " 0.64,\n",
       " 0.5161290322580645,\n",
       " 0.6666666666666666,\n",
       " 0.7407407407407407,\n",
       " 0.5925925925925926,\n",
       " 0.5517241379310345,\n",
       " 0.4444444444444444,\n",
       " 0.26666666666666666,\n",
       " 0.5,\n",
       " 0.5945945945945946,\n",
       " 0.6666666666666666,\n",
       " 0.7586206896551724,\n",
       " 0.5217391304347826,\n",
       " 0.6206896551724138,\n",
       " 0.6086956521739131,\n",
       " 0.5,\n",
       " 0.5,\n",
       " 0.5384615384615384,\n",
       " 0.625,\n",
       " 0.64,\n",
       " 0.4666666666666667,\n",
       " 0.64,\n",
       " 0.5185185185185185,\n",
       " 0.5945945945945946,\n",
       " 0.6363636363636364,\n",
       " 0.21428571428571427,\n",
       " 0.631578947368421,\n",
       " 0.6666666666666666,\n",
       " 0.15384615384615385,\n",
       " 0.6875,\n",
       " 0.6666666666666666,\n",
       " 0.6428571428571429,\n",
       " 0.6153846153846154,\n",
       " 0.7142857142857143,\n",
       " 0.7692307692307693,\n",
       " 0.4444444444444444,\n",
       " 0.6666666666666666,\n",
       " 0.5185185185185185,\n",
       " 0.5,\n",
       " 0.7272727272727273,\n",
       " 0.3870967741935484,\n",
       " 0.5806451612903226,\n",
       " 0.625,\n",
       " 0.4666666666666667,\n",
       " 0.3870967741935484,\n",
       " 0.56,\n",
       " 0.6666666666666666,\n",
       " 0.7142857142857143,\n",
       " 0.6451612903225806,\n",
       " 0.4444444444444444,\n",
       " 0.6206896551724138,\n",
       " 0.64,\n",
       " 0.38461538461538464,\n",
       " 0.5333333333333333,\n",
       " 0.47619047619047616,\n",
       " 0.4375,\n",
       " 0.3870967741935484,\n",
       " 0.45454545454545453]"
      ]
     },
     "execution_count": 55,
     "metadata": {},
     "output_type": "execute_result"
    }
   ],
   "source": [
    "name_similarity_score"
   ]
  },
  {
   "cell_type": "code",
   "execution_count": 59,
   "id": "e968a9d5",
   "metadata": {},
   "outputs": [],
   "source": [
    "women_search_df.to_csv('women_search100.csv')\n"
   ]
  },
  {
   "cell_type": "code",
   "execution_count": 57,
   "id": "d9fe08c3",
   "metadata": {},
   "outputs": [],
   "source": [
    "\n",
    "women_search = {'given_name':og_name,'opendorse_name':open_dorse_name,'name_similarity_score':name_similarity_score}\n",
    "women_search_df= pd.DataFrame(women_search)\n"
   ]
  },
  {
   "cell_type": "code",
   "execution_count": 58,
   "id": "e787678f",
   "metadata": {},
   "outputs": [
    {
     "data": {
      "text/html": [
       "<div>\n",
       "<style scoped>\n",
       "    .dataframe tbody tr th:only-of-type {\n",
       "        vertical-align: middle;\n",
       "    }\n",
       "\n",
       "    .dataframe tbody tr th {\n",
       "        vertical-align: top;\n",
       "    }\n",
       "\n",
       "    .dataframe thead th {\n",
       "        text-align: right;\n",
       "    }\n",
       "</style>\n",
       "<table border=\"1\" class=\"dataframe\">\n",
       "  <thead>\n",
       "    <tr style=\"text-align: right;\">\n",
       "      <th></th>\n",
       "      <th>given_name</th>\n",
       "      <th>opendorse_name</th>\n",
       "      <th>name_similarity_score</th>\n",
       "    </tr>\n",
       "  </thead>\n",
       "  <tbody>\n",
       "    <tr>\n",
       "      <th>0</th>\n",
       "      <td>Deborah Aboagaye</td>\n",
       "      <td>Deborah Jones</td>\n",
       "      <td>0.689655</td>\n",
       "    </tr>\n",
       "    <tr>\n",
       "      <th>1</th>\n",
       "      <td>Madeleine Adams</td>\n",
       "      <td>Anthony Adams</td>\n",
       "      <td>0.500000</td>\n",
       "    </tr>\n",
       "    <tr>\n",
       "      <th>2</th>\n",
       "      <td>Autumn Agar</td>\n",
       "      <td>Autumn King</td>\n",
       "      <td>0.727273</td>\n",
       "    </tr>\n",
       "    <tr>\n",
       "      <th>3</th>\n",
       "      <td>Carly Ahlstrom</td>\n",
       "      <td>Carly Palmer</td>\n",
       "      <td>0.615385</td>\n",
       "    </tr>\n",
       "    <tr>\n",
       "      <th>4</th>\n",
       "      <td>Megan Ahlstrom</td>\n",
       "      <td>Megan Skaggs</td>\n",
       "      <td>0.538462</td>\n",
       "    </tr>\n",
       "    <tr>\n",
       "      <th>...</th>\n",
       "      <td>...</td>\n",
       "      <td>...</td>\n",
       "      <td>...</td>\n",
       "    </tr>\n",
       "    <tr>\n",
       "      <th>92</th>\n",
       "      <td>Ashley Collins</td>\n",
       "      <td>Ashley Vanderpan</td>\n",
       "      <td>0.533333</td>\n",
       "    </tr>\n",
       "    <tr>\n",
       "      <th>93</th>\n",
       "      <td>Katrina Collins-Samuels</td>\n",
       "      <td>Katrina Durrwachter</td>\n",
       "      <td>0.476190</td>\n",
       "    </tr>\n",
       "    <tr>\n",
       "      <th>94</th>\n",
       "      <td>Maddy Colpitts</td>\n",
       "      <td>Maddy Swartzmiller</td>\n",
       "      <td>0.437500</td>\n",
       "    </tr>\n",
       "    <tr>\n",
       "      <th>95</th>\n",
       "      <td>Azaliah Colquhoun</td>\n",
       "      <td>Name not found</td>\n",
       "      <td>0.387097</td>\n",
       "    </tr>\n",
       "    <tr>\n",
       "      <th>96</th>\n",
       "      <td>Jill Condron</td>\n",
       "      <td>Jill Walsh</td>\n",
       "      <td>0.454545</td>\n",
       "    </tr>\n",
       "  </tbody>\n",
       "</table>\n",
       "<p>97 rows × 3 columns</p>\n",
       "</div>"
      ],
      "text/plain": [
       "                 given_name       opendorse_name  name_similarity_score\n",
       "0          Deborah Aboagaye        Deborah Jones               0.689655\n",
       "1           Madeleine Adams        Anthony Adams               0.500000\n",
       "2               Autumn Agar          Autumn King               0.727273\n",
       "3            Carly Ahlstrom         Carly Palmer               0.615385\n",
       "4            Megan Ahlstrom         Megan Skaggs               0.538462\n",
       "..                      ...                  ...                    ...\n",
       "92           Ashley Collins     Ashley Vanderpan               0.533333\n",
       "93  Katrina Collins-Samuels  Katrina Durrwachter               0.476190\n",
       "94           Maddy Colpitts   Maddy Swartzmiller               0.437500\n",
       "95        Azaliah Colquhoun       Name not found               0.387097\n",
       "96             Jill Condron           Jill Walsh               0.454545\n",
       "\n",
       "[97 rows x 3 columns]"
      ]
     },
     "execution_count": 58,
     "metadata": {},
     "output_type": "execute_result"
    }
   ],
   "source": [
    "women_search_df"
   ]
  },
  {
   "cell_type": "code",
   "execution_count": null,
   "id": "326aa207",
   "metadata": {},
   "outputs": [],
   "source": []
  }
 ],
 "metadata": {
  "kernelspec": {
   "display_name": "Python 3 (ipykernel)",
   "language": "python",
   "name": "python3"
  },
  "language_info": {
   "codemirror_mode": {
    "name": "ipython",
    "version": 3
   },
   "file_extension": ".py",
   "mimetype": "text/x-python",
   "name": "python",
   "nbconvert_exporter": "python",
   "pygments_lexer": "ipython3",
   "version": "3.9.12"
  }
 },
 "nbformat": 4,
 "nbformat_minor": 5
}
